{
 "cells": [
  {
   "cell_type": "markdown",
   "metadata": {
    "colab_type": "text",
    "id": "pBQsZEJmubLs"
   },
   "source": [
    "<img align=\"left\" src=\"https://lever-client-logos.s3.amazonaws.com/864372b1-534c-480e-acd5-9711f850815c-1524247202159.png\" width=200>\n",
    "<br></br>\n",
    "\n",
    "# Neural Network Framework (Keras)\n",
    "\n",
    "## *Data Science Unit 4 Sprint 2 Assignmnet 3*\n",
    "\n",
    "## Use the Keras Library to build a Multi-Layer Perceptron Model on the Boston Housing dataset\n",
    "\n",
    "- The Boston Housing dataset comes with the Keras library so use Keras to import it into your notebook. \n",
    "- Normalize the data (all features should have roughly the same scale)\n",
    "- Import the type of model and layers that you will need from Keras.\n",
    "- Instantiate a model object and use `model.add()` to add layers to your model\n",
    "- Since this is a regression model you will have a single output node in the final layer.\n",
    "- Use activation functions that are appropriate for this task\n",
    "- Compile your model\n",
    "- Fit your model and report its accuracy in terms of Mean Squared Error\n",
    "- Use the history object that is returned from model.fit to make graphs of the model's loss or train/validation accuracies by epoch. \n",
    "- Run this same data through a linear regression model. Which achieves higher accuracy?\n",
    "- Do a little bit of feature engineering and see how that affects your neural network model. (you will need to change your model to accept more inputs)\n",
    "- After feature engineering, which model sees a greater accuracy boost due to the new features?"
   ]
  },
  {
   "cell_type": "code",
   "execution_count": 62,
   "metadata": {
    "colab": {},
    "colab_type": "code",
    "id": "8NLTAR87uYJ-"
   },
   "outputs": [],
   "source": [
    "##### Your Code Here #####\n",
    "from tensorflow.keras.models import Sequential\n",
    "from tensorflow.keras.layers import Dense\n",
    "import pandas as pd\n",
    "import numpy as np\n",
    "\n",
    "#from keras.datasets import boston_housing\n",
    "from tensorflow.keras.datasets import boston_housing\n",
    "(X_train, y_train), (X_test, y_test) = boston_housing.load_data()\n"
   ]
  },
  {
   "cell_type": "code",
   "execution_count": 63,
   "metadata": {},
   "outputs": [
    {
     "name": "stdout",
     "output_type": "stream",
     "text": [
      "Training data : (404, 13)\n",
      "Test data : (102, 13)\n",
      "Training sample : [  1.23247   0.        8.14      0.        0.538     6.142    91.7\n",
      "   3.9769    4.      307.       21.      396.9      18.72   ]\n",
      "Training target sample : 15.2\n"
     ]
    }
   ],
   "source": [
    "print(f'Training data : {X_train.shape}')\n",
    "print(f'Test data : {X_test.shape}')\n",
    "print(f'Training sample : {X_train[0]}')\n",
    "print(f'Training target sample : {y_train[0]}')"
   ]
  },
  {
   "cell_type": "code",
   "execution_count": 64,
   "metadata": {},
   "outputs": [],
   "source": [
    "# Reshape the data\n",
    "X_train = X_train.reshape(404, 13)\n",
    "X_test = X_test.reshape(102, 13)"
   ]
  },
  {
   "cell_type": "code",
   "execution_count": 65,
   "metadata": {},
   "outputs": [],
   "source": [
    "# X Variable Types\n",
    "X_train = X_train.astype('float32')\n",
    "X_test = X_test.astype('float32')"
   ]
  },
  {
   "cell_type": "code",
   "execution_count": 66,
   "metadata": {},
   "outputs": [
    {
     "data": {
      "text/plain": [
       "array([  1.23247,   0.     ,   8.14   ,   0.     ,   0.538  ,   6.142  ,\n",
       "        91.7    ,   3.9769 ,   4.     , 307.     ,  21.     , 396.9    ,\n",
       "        18.72   ], dtype=float32)"
      ]
     },
     "execution_count": 66,
     "metadata": {},
     "output_type": "execute_result"
    }
   ],
   "source": [
    "X_train[0]"
   ]
  },
  {
   "cell_type": "code",
   "execution_count": 67,
   "metadata": {},
   "outputs": [
    {
     "data": {
      "text/html": [
       "<div>\n",
       "<style scoped>\n",
       "    .dataframe tbody tr th:only-of-type {\n",
       "        vertical-align: middle;\n",
       "    }\n",
       "\n",
       "    .dataframe tbody tr th {\n",
       "        vertical-align: top;\n",
       "    }\n",
       "\n",
       "    .dataframe thead th {\n",
       "        text-align: right;\n",
       "    }\n",
       "</style>\n",
       "<table border=\"1\" class=\"dataframe\">\n",
       "  <thead>\n",
       "    <tr style=\"text-align: right;\">\n",
       "      <th></th>\n",
       "      <th>0</th>\n",
       "      <th>1</th>\n",
       "      <th>2</th>\n",
       "      <th>3</th>\n",
       "      <th>4</th>\n",
       "      <th>5</th>\n",
       "      <th>6</th>\n",
       "      <th>7</th>\n",
       "      <th>8</th>\n",
       "      <th>9</th>\n",
       "      <th>10</th>\n",
       "      <th>11</th>\n",
       "      <th>12</th>\n",
       "    </tr>\n",
       "  </thead>\n",
       "  <tbody>\n",
       "    <tr>\n",
       "      <th>0</th>\n",
       "      <td>1.23247</td>\n",
       "      <td>0.0</td>\n",
       "      <td>8.14</td>\n",
       "      <td>0.0</td>\n",
       "      <td>0.538</td>\n",
       "      <td>6.142</td>\n",
       "      <td>91.699997</td>\n",
       "      <td>3.9769</td>\n",
       "      <td>4.0</td>\n",
       "      <td>307.0</td>\n",
       "      <td>21.000000</td>\n",
       "      <td>396.899994</td>\n",
       "      <td>18.719999</td>\n",
       "    </tr>\n",
       "    <tr>\n",
       "      <th>1</th>\n",
       "      <td>0.02177</td>\n",
       "      <td>82.5</td>\n",
       "      <td>2.03</td>\n",
       "      <td>0.0</td>\n",
       "      <td>0.415</td>\n",
       "      <td>7.610</td>\n",
       "      <td>15.700000</td>\n",
       "      <td>6.2700</td>\n",
       "      <td>2.0</td>\n",
       "      <td>348.0</td>\n",
       "      <td>14.700000</td>\n",
       "      <td>395.380005</td>\n",
       "      <td>3.110000</td>\n",
       "    </tr>\n",
       "    <tr>\n",
       "      <th>2</th>\n",
       "      <td>4.89822</td>\n",
       "      <td>0.0</td>\n",
       "      <td>18.10</td>\n",
       "      <td>0.0</td>\n",
       "      <td>0.631</td>\n",
       "      <td>4.970</td>\n",
       "      <td>100.000000</td>\n",
       "      <td>1.3325</td>\n",
       "      <td>24.0</td>\n",
       "      <td>666.0</td>\n",
       "      <td>20.200001</td>\n",
       "      <td>375.519989</td>\n",
       "      <td>3.260000</td>\n",
       "    </tr>\n",
       "    <tr>\n",
       "      <th>3</th>\n",
       "      <td>0.03961</td>\n",
       "      <td>0.0</td>\n",
       "      <td>5.19</td>\n",
       "      <td>0.0</td>\n",
       "      <td>0.515</td>\n",
       "      <td>6.037</td>\n",
       "      <td>34.500000</td>\n",
       "      <td>5.9853</td>\n",
       "      <td>5.0</td>\n",
       "      <td>224.0</td>\n",
       "      <td>20.200001</td>\n",
       "      <td>396.899994</td>\n",
       "      <td>8.010000</td>\n",
       "    </tr>\n",
       "    <tr>\n",
       "      <th>4</th>\n",
       "      <td>3.69311</td>\n",
       "      <td>0.0</td>\n",
       "      <td>18.10</td>\n",
       "      <td>0.0</td>\n",
       "      <td>0.713</td>\n",
       "      <td>6.376</td>\n",
       "      <td>88.400002</td>\n",
       "      <td>2.5671</td>\n",
       "      <td>24.0</td>\n",
       "      <td>666.0</td>\n",
       "      <td>20.200001</td>\n",
       "      <td>391.429993</td>\n",
       "      <td>14.650000</td>\n",
       "    </tr>\n",
       "  </tbody>\n",
       "</table>\n",
       "</div>"
      ],
      "text/plain": [
       "        0     1      2    3      4      5           6       7     8      9   \\\n",
       "0  1.23247   0.0   8.14  0.0  0.538  6.142   91.699997  3.9769   4.0  307.0   \n",
       "1  0.02177  82.5   2.03  0.0  0.415  7.610   15.700000  6.2700   2.0  348.0   \n",
       "2  4.89822   0.0  18.10  0.0  0.631  4.970  100.000000  1.3325  24.0  666.0   \n",
       "3  0.03961   0.0   5.19  0.0  0.515  6.037   34.500000  5.9853   5.0  224.0   \n",
       "4  3.69311   0.0  18.10  0.0  0.713  6.376   88.400002  2.5671  24.0  666.0   \n",
       "\n",
       "          10          11         12  \n",
       "0  21.000000  396.899994  18.719999  \n",
       "1  14.700000  395.380005   3.110000  \n",
       "2  20.200001  375.519989   3.260000  \n",
       "3  20.200001  396.899994   8.010000  \n",
       "4  20.200001  391.429993  14.650000  "
      ]
     },
     "execution_count": 67,
     "metadata": {},
     "output_type": "execute_result"
    }
   ],
   "source": [
    "df = pd.DataFrame(X_train)\n",
    "df.head()"
   ]
  },
  {
   "cell_type": "code",
   "execution_count": 78,
   "metadata": {},
   "outputs": [],
   "source": [
    "# Normalizing Data on feature \n",
    "\n",
    "X = X_train / np.amax(X_train, axis=0)\n",
    "y = y_train / 100\n",
    "\n",
    "#print(\"Boston Housing \\n\", X)\n",
    "#print(\"Price \\n\", y)"
   ]
  },
  {
   "cell_type": "code",
   "execution_count": 79,
   "metadata": {},
   "outputs": [
    {
     "name": "stdout",
     "output_type": "stream",
     "text": [
      "Train on 404 samples\n",
      "Epoch 1/150\n",
      "404/404 [==============================] - 1s 1ms/sample - loss: 0.1560 - mae: 0.3839 - mse: 0.1560\n",
      "Epoch 2/150\n",
      "404/404 [==============================] - 0s 126us/sample - loss: 0.1440 - mae: 0.3677 - mse: 0.1440\n",
      "Epoch 3/150\n",
      "404/404 [==============================] - 0s 100us/sample - loss: 0.1340 - mae: 0.3537 - mse: 0.1340\n",
      "Epoch 4/150\n",
      "404/404 [==============================] - 0s 89us/sample - loss: 0.1242 - mae: 0.3396 - mse: 0.1242\n",
      "Epoch 5/150\n",
      "404/404 [==============================] - 0s 77us/sample - loss: 0.1146 - mae: 0.3252 - mse: 0.1146\n",
      "Epoch 6/150\n",
      "404/404 [==============================] - 0s 84us/sample - loss: 0.1053 - mae: 0.3102 - mse: 0.1053\n",
      "Epoch 7/150\n",
      "404/404 [==============================] - 0s 83us/sample - loss: 0.0962 - mae: 0.2952 - mse: 0.0962\n",
      "Epoch 8/150\n",
      "404/404 [==============================] - 0s 81us/sample - loss: 0.0873 - mae: 0.2800 - mse: 0.0873\n",
      "Epoch 9/150\n",
      "404/404 [==============================] - 0s 84us/sample - loss: 0.0788 - mae: 0.2651 - mse: 0.0788\n",
      "Epoch 10/150\n",
      "404/404 [==============================] - 0s 78us/sample - loss: 0.0707 - mae: 0.2505 - mse: 0.0707\n",
      "Epoch 11/150\n",
      "404/404 [==============================] - 0s 75us/sample - loss: 0.0631 - mae: 0.2359 - mse: 0.0631\n",
      "Epoch 12/150\n",
      "404/404 [==============================] - 0s 84us/sample - loss: 0.0559 - mae: 0.2216 - mse: 0.0559\n",
      "Epoch 13/150\n",
      "404/404 [==============================] - 0s 71us/sample - loss: 0.0493 - mae: 0.2075 - mse: 0.0493\n",
      "Epoch 14/150\n",
      "404/404 [==============================] - 0s 76us/sample - loss: 0.0432 - mae: 0.1937 - mse: 0.0432\n",
      "Epoch 15/150\n",
      "404/404 [==============================] - 0s 74us/sample - loss: 0.0377 - mae: 0.1800 - mse: 0.0377\n",
      "Epoch 16/150\n",
      "404/404 [==============================] - 0s 77us/sample - loss: 0.0327 - mae: 0.1669 - mse: 0.0327\n",
      "Epoch 17/150\n",
      "404/404 [==============================] - 0s 70us/sample - loss: 0.0283 - mae: 0.1543 - mse: 0.0283\n",
      "Epoch 18/150\n",
      "404/404 [==============================] - 0s 77us/sample - loss: 0.0244 - mae: 0.1424 - mse: 0.0244\n",
      "Epoch 19/150\n",
      "404/404 [==============================] - 0s 62us/sample - loss: 0.0211 - mae: 0.1314 - mse: 0.0211\n",
      "Epoch 20/150\n",
      "404/404 [==============================] - 0s 73us/sample - loss: 0.0183 - mae: 0.1213 - mse: 0.0183\n",
      "Epoch 21/150\n",
      "404/404 [==============================] - 0s 66us/sample - loss: 0.0159 - mae: 0.1120 - mse: 0.0159\n",
      "Epoch 22/150\n",
      "404/404 [==============================] - 0s 67us/sample - loss: 0.0139 - mae: 0.1036 - mse: 0.0139\n",
      "Epoch 23/150\n",
      "404/404 [==============================] - 0s 76us/sample - loss: 0.0123 - mae: 0.0960 - mse: 0.0123\n",
      "Epoch 24/150\n",
      "404/404 [==============================] - 0s 84us/sample - loss: 0.0111 - mae: 0.0897 - mse: 0.0111\n",
      "Epoch 25/150\n",
      "404/404 [==============================] - 0s 94us/sample - loss: 0.0102 - mae: 0.0839 - mse: 0.0102\n",
      "Epoch 26/150\n",
      "404/404 [==============================] - 0s 99us/sample - loss: 0.0095 - mae: 0.0785 - mse: 0.0095\n",
      "Epoch 27/150\n",
      "404/404 [==============================] - 0s 87us/sample - loss: 0.0091 - mae: 0.0743 - mse: 0.0091\n",
      "Epoch 28/150\n",
      "404/404 [==============================] - 0s 83us/sample - loss: 0.0088 - mae: 0.0713 - mse: 0.0088\n",
      "Epoch 29/150\n",
      "404/404 [==============================] - 0s 83us/sample - loss: 0.0087 - mae: 0.0692 - mse: 0.0087\n",
      "Epoch 30/150\n",
      "404/404 [==============================] - 0s 85us/sample - loss: 0.0086 - mae: 0.0681 - mse: 0.0086\n",
      "Epoch 31/150\n",
      "404/404 [==============================] - 0s 85us/sample - loss: 0.0086 - mae: 0.0672 - mse: 0.0086\n",
      "Epoch 32/150\n",
      "404/404 [==============================] - 0s 72us/sample - loss: 0.0086 - mae: 0.0670 - mse: 0.0086\n",
      "Epoch 33/150\n",
      "404/404 [==============================] - 0s 64us/sample - loss: 0.0085 - mae: 0.0669 - mse: 0.0085\n",
      "Epoch 34/150\n",
      "404/404 [==============================] - 0s 77us/sample - loss: 0.0085 - mae: 0.0670 - mse: 0.0085\n",
      "Epoch 35/150\n",
      "404/404 [==============================] - 0s 73us/sample - loss: 0.0085 - mae: 0.0665 - mse: 0.0085\n",
      "Epoch 36/150\n",
      "404/404 [==============================] - 0s 66us/sample - loss: 0.0085 - mae: 0.0667 - mse: 0.0085\n",
      "Epoch 37/150\n",
      "404/404 [==============================] - 0s 68us/sample - loss: 0.0085 - mae: 0.0664 - mse: 0.0085\n",
      "Epoch 38/150\n",
      "404/404 [==============================] - 0s 81us/sample - loss: 0.0085 - mae: 0.0666 - mse: 0.0085\n",
      "Epoch 39/150\n",
      "404/404 [==============================] - 0s 73us/sample - loss: 0.0085 - mae: 0.0665 - mse: 0.0085\n",
      "Epoch 40/150\n",
      "404/404 [==============================] - 0s 69us/sample - loss: 0.0085 - mae: 0.0665 - mse: 0.0085\n",
      "Epoch 41/150\n",
      "404/404 [==============================] - 0s 65us/sample - loss: 0.0085 - mae: 0.0664 - mse: 0.0085\n",
      "Epoch 42/150\n",
      "404/404 [==============================] - 0s 69us/sample - loss: 0.0085 - mae: 0.0667 - mse: 0.0085\n",
      "Epoch 43/150\n",
      "404/404 [==============================] - 0s 66us/sample - loss: 0.0085 - mae: 0.0664 - mse: 0.0085\n",
      "Epoch 44/150\n",
      "404/404 [==============================] - 0s 93us/sample - loss: 0.0085 - mae: 0.0664 - mse: 0.0085\n",
      "Epoch 45/150\n",
      "404/404 [==============================] - 0s 83us/sample - loss: 0.0084 - mae: 0.0663 - mse: 0.0084\n",
      "Epoch 46/150\n",
      "404/404 [==============================] - 0s 90us/sample - loss: 0.0084 - mae: 0.0664 - mse: 0.0084\n",
      "Epoch 47/150\n",
      "404/404 [==============================] - 0s 90us/sample - loss: 0.0084 - mae: 0.0665 - mse: 0.0084\n",
      "Epoch 48/150\n",
      "404/404 [==============================] - 0s 83us/sample - loss: 0.0084 - mae: 0.0660 - mse: 0.0084\n",
      "Epoch 49/150\n",
      "404/404 [==============================] - 0s 89us/sample - loss: 0.0084 - mae: 0.0663 - mse: 0.0084\n",
      "Epoch 50/150\n",
      "404/404 [==============================] - 0s 96us/sample - loss: 0.0084 - mae: 0.0664 - mse: 0.0084\n",
      "Epoch 51/150\n",
      "404/404 [==============================] - 0s 86us/sample - loss: 0.0084 - mae: 0.0661 - mse: 0.0084\n",
      "Epoch 52/150\n",
      "404/404 [==============================] - 0s 64us/sample - loss: 0.0084 - mae: 0.0661 - mse: 0.0084\n",
      "Epoch 53/150\n",
      "404/404 [==============================] - 0s 74us/sample - loss: 0.0084 - mae: 0.0661 - mse: 0.0084\n",
      "Epoch 54/150\n",
      "404/404 [==============================] - 0s 82us/sample - loss: 0.0084 - mae: 0.0659 - mse: 0.0084\n",
      "Epoch 55/150\n",
      "404/404 [==============================] - 0s 94us/sample - loss: 0.0084 - mae: 0.0662 - mse: 0.0084\n",
      "Epoch 56/150\n",
      "404/404 [==============================] - 0s 88us/sample - loss: 0.0084 - mae: 0.0660 - mse: 0.0084\n",
      "Epoch 57/150\n",
      "404/404 [==============================] - 0s 78us/sample - loss: 0.0084 - mae: 0.0660 - mse: 0.0084\n",
      "Epoch 58/150\n",
      "404/404 [==============================] - 0s 84us/sample - loss: 0.0084 - mae: 0.0658 - mse: 0.0084\n",
      "Epoch 59/150\n",
      "404/404 [==============================] - 0s 74us/sample - loss: 0.0083 - mae: 0.0661 - mse: 0.0083\n",
      "Epoch 60/150\n",
      "404/404 [==============================] - 0s 80us/sample - loss: 0.0083 - mae: 0.0661 - mse: 0.0083\n",
      "Epoch 61/150\n",
      "404/404 [==============================] - 0s 88us/sample - loss: 0.0083 - mae: 0.0658 - mse: 0.0083\n",
      "Epoch 62/150\n",
      "404/404 [==============================] - 0s 92us/sample - loss: 0.0083 - mae: 0.0658 - mse: 0.0083\n",
      "Epoch 63/150\n",
      "404/404 [==============================] - 0s 79us/sample - loss: 0.0083 - mae: 0.0658 - mse: 0.0083\n",
      "Epoch 64/150\n",
      "404/404 [==============================] - 0s 82us/sample - loss: 0.0083 - mae: 0.0657 - mse: 0.0083\n",
      "Epoch 65/150\n",
      "404/404 [==============================] - 0s 85us/sample - loss: 0.0083 - mae: 0.0656 - mse: 0.0083\n",
      "Epoch 66/150\n",
      "404/404 [==============================] - 0s 81us/sample - loss: 0.0083 - mae: 0.0656 - mse: 0.0083\n",
      "Epoch 67/150\n",
      "404/404 [==============================] - 0s 93us/sample - loss: 0.0083 - mae: 0.0655 - mse: 0.0083\n",
      "Epoch 68/150\n",
      "404/404 [==============================] - 0s 89us/sample - loss: 0.0083 - mae: 0.0657 - mse: 0.0083\n",
      "Epoch 69/150\n",
      "404/404 [==============================] - 0s 76us/sample - loss: 0.0083 - mae: 0.0656 - mse: 0.0083\n",
      "Epoch 70/150\n",
      "404/404 [==============================] - 0s 90us/sample - loss: 0.0082 - mae: 0.0653 - mse: 0.0082\n",
      "Epoch 71/150\n",
      "404/404 [==============================] - 0s 76us/sample - loss: 0.0082 - mae: 0.0656 - mse: 0.0082\n",
      "Epoch 72/150\n",
      "404/404 [==============================] - 0s 87us/sample - loss: 0.0082 - mae: 0.0654 - mse: 0.0082\n",
      "Epoch 73/150\n",
      "404/404 [==============================] - 0s 82us/sample - loss: 0.0082 - mae: 0.0654 - mse: 0.0082\n",
      "Epoch 74/150\n",
      "404/404 [==============================] - 0s 73us/sample - loss: 0.0082 - mae: 0.0650 - mse: 0.0082\n",
      "Epoch 75/150\n",
      "404/404 [==============================] - 0s 83us/sample - loss: 0.0082 - mae: 0.0649 - mse: 0.0082\n",
      "Epoch 76/150\n",
      "404/404 [==============================] - 0s 80us/sample - loss: 0.0082 - mae: 0.0646 - mse: 0.0082\n",
      "Epoch 77/150\n",
      "404/404 [==============================] - 0s 74us/sample - loss: 0.0081 - mae: 0.0651 - mse: 0.0081\n",
      "Epoch 78/150\n",
      "404/404 [==============================] - 0s 90us/sample - loss: 0.0081 - mae: 0.0651 - mse: 0.0081\n",
      "Epoch 79/150\n",
      "404/404 [==============================] - 0s 73us/sample - loss: 0.0081 - mae: 0.0648 - mse: 0.0081\n",
      "Epoch 80/150\n",
      "404/404 [==============================] - 0s 74us/sample - loss: 0.0081 - mae: 0.0646 - mse: 0.0081\n",
      "Epoch 81/150\n",
      "404/404 [==============================] - 0s 85us/sample - loss: 0.0081 - mae: 0.0645 - mse: 0.0081\n",
      "Epoch 82/150\n",
      "404/404 [==============================] - 0s 84us/sample - loss: 0.0081 - mae: 0.0647 - mse: 0.0081\n",
      "Epoch 83/150\n",
      "404/404 [==============================] - 0s 86us/sample - loss: 0.0080 - mae: 0.0647 - mse: 0.0080\n",
      "Epoch 84/150\n",
      "404/404 [==============================] - 0s 80us/sample - loss: 0.0080 - mae: 0.0644 - mse: 0.0080\n",
      "Epoch 85/150\n",
      "404/404 [==============================] - 0s 81us/sample - loss: 0.0080 - mae: 0.0644 - mse: 0.0080\n",
      "Epoch 86/150\n",
      "404/404 [==============================] - 0s 76us/sample - loss: 0.0080 - mae: 0.0643 - mse: 0.0080\n",
      "Epoch 87/150\n",
      "404/404 [==============================] - 0s 71us/sample - loss: 0.0080 - mae: 0.0638 - mse: 0.0080\n",
      "Epoch 88/150\n",
      "404/404 [==============================] - 0s 65us/sample - loss: 0.0079 - mae: 0.0639 - mse: 0.0079\n",
      "Epoch 89/150\n",
      "404/404 [==============================] - 0s 80us/sample - loss: 0.0079 - mae: 0.0639 - mse: 0.0079\n",
      "Epoch 90/150\n",
      "404/404 [==============================] - 0s 72us/sample - loss: 0.0079 - mae: 0.0637 - mse: 0.0079\n",
      "Epoch 91/150\n",
      "404/404 [==============================] - 0s 58us/sample - loss: 0.0079 - mae: 0.0637 - mse: 0.0079\n",
      "Epoch 92/150\n",
      "404/404 [==============================] - 0s 66us/sample - loss: 0.0078 - mae: 0.0638 - mse: 0.0078\n",
      "Epoch 93/150\n",
      "404/404 [==============================] - 0s 62us/sample - loss: 0.0078 - mae: 0.0636 - mse: 0.0078\n",
      "Epoch 94/150\n",
      "404/404 [==============================] - 0s 55us/sample - loss: 0.0078 - mae: 0.0635 - mse: 0.0078\n",
      "Epoch 95/150\n",
      "404/404 [==============================] - 0s 66us/sample - loss: 0.0077 - mae: 0.0632 - mse: 0.0077\n",
      "Epoch 96/150\n",
      "404/404 [==============================] - 0s 67us/sample - loss: 0.0077 - mae: 0.0629 - mse: 0.0077\n",
      "Epoch 97/150\n",
      "404/404 [==============================] - 0s 58us/sample - loss: 0.0077 - mae: 0.0626 - mse: 0.0077\n",
      "Epoch 98/150\n",
      "404/404 [==============================] - 0s 72us/sample - loss: 0.0077 - mae: 0.0632 - mse: 0.0077\n",
      "Epoch 99/150\n",
      "404/404 [==============================] - 0s 68us/sample - loss: 0.0076 - mae: 0.0627 - mse: 0.0076\n",
      "Epoch 100/150\n",
      "404/404 [==============================] - 0s 74us/sample - loss: 0.0076 - mae: 0.0623 - mse: 0.0076\n",
      "Epoch 101/150\n",
      "404/404 [==============================] - 0s 61us/sample - loss: 0.0076 - mae: 0.0624 - mse: 0.0076\n",
      "Epoch 102/150\n",
      "404/404 [==============================] - 0s 88us/sample - loss: 0.0075 - mae: 0.0623 - mse: 0.0075\n",
      "Epoch 103/150\n",
      "404/404 [==============================] - 0s 84us/sample - loss: 0.0075 - mae: 0.0620 - mse: 0.0075\n",
      "Epoch 104/150\n",
      "404/404 [==============================] - 0s 105us/sample - loss: 0.0074 - mae: 0.0615 - mse: 0.0074\n",
      "Epoch 105/150\n",
      "404/404 [==============================] - 0s 65us/sample - loss: 0.0074 - mae: 0.0621 - mse: 0.0074\n",
      "Epoch 106/150\n",
      "404/404 [==============================] - 0s 58us/sample - loss: 0.0074 - mae: 0.0617 - mse: 0.0074\n",
      "Epoch 107/150\n",
      "404/404 [==============================] - 0s 82us/sample - loss: 0.0073 - mae: 0.0617 - mse: 0.0073\n",
      "Epoch 108/150\n",
      "404/404 [==============================] - 0s 63us/sample - loss: 0.0073 - mae: 0.0612 - mse: 0.0073\n",
      "Epoch 109/150\n",
      "404/404 [==============================] - 0s 74us/sample - loss: 0.0073 - mae: 0.0609 - mse: 0.0073\n",
      "Epoch 110/150\n",
      "404/404 [==============================] - 0s 86us/sample - loss: 0.0072 - mae: 0.0606 - mse: 0.0072\n",
      "Epoch 111/150\n",
      "404/404 [==============================] - 0s 57us/sample - loss: 0.0072 - mae: 0.0606 - mse: 0.0072\n",
      "Epoch 112/150\n",
      "404/404 [==============================] - 0s 77us/sample - loss: 0.0071 - mae: 0.0606 - mse: 0.0071\n",
      "Epoch 113/150\n",
      "404/404 [==============================] - 0s 59us/sample - loss: 0.0071 - mae: 0.0607 - mse: 0.0071\n",
      "Epoch 114/150\n",
      "404/404 [==============================] - 0s 69us/sample - loss: 0.0071 - mae: 0.0599 - mse: 0.0071\n",
      "Epoch 115/150\n",
      "404/404 [==============================] - 0s 69us/sample - loss: 0.0070 - mae: 0.0596 - mse: 0.0070\n",
      "Epoch 116/150\n",
      "404/404 [==============================] - 0s 73us/sample - loss: 0.0070 - mae: 0.0596 - mse: 0.0070\n",
      "Epoch 117/150\n",
      "404/404 [==============================] - 0s 63us/sample - loss: 0.0069 - mae: 0.0599 - mse: 0.0069\n",
      "Epoch 118/150\n",
      "404/404 [==============================] - 0s 75us/sample - loss: 0.0069 - mae: 0.0589 - mse: 0.0069\n",
      "Epoch 119/150\n",
      "404/404 [==============================] - 0s 56us/sample - loss: 0.0069 - mae: 0.0599 - mse: 0.0069\n",
      "Epoch 120/150\n",
      "404/404 [==============================] - 0s 78us/sample - loss: 0.0068 - mae: 0.0589 - mse: 0.0068\n",
      "Epoch 121/150\n",
      "404/404 [==============================] - 0s 56us/sample - loss: 0.0068 - mae: 0.0583 - mse: 0.0068\n",
      "Epoch 122/150\n",
      "404/404 [==============================] - 0s 77us/sample - loss: 0.0067 - mae: 0.0583 - mse: 0.0067\n",
      "Epoch 123/150\n",
      "404/404 [==============================] - 0s 61us/sample - loss: 0.0067 - mae: 0.0583 - mse: 0.0067\n",
      "Epoch 124/150\n",
      "404/404 [==============================] - 0s 69us/sample - loss: 0.0066 - mae: 0.0584 - mse: 0.0066\n",
      "Epoch 125/150\n",
      "404/404 [==============================] - 0s 70us/sample - loss: 0.0066 - mae: 0.0570 - mse: 0.0066\n",
      "Epoch 126/150\n",
      "404/404 [==============================] - 0s 67us/sample - loss: 0.0066 - mae: 0.0578 - mse: 0.0066\n",
      "Epoch 127/150\n",
      "404/404 [==============================] - 0s 69us/sample - loss: 0.0065 - mae: 0.0574 - mse: 0.0065\n",
      "Epoch 128/150\n",
      "404/404 [==============================] - 0s 62us/sample - loss: 0.0065 - mae: 0.0568 - mse: 0.0065\n",
      "Epoch 129/150\n",
      "404/404 [==============================] - 0s 70us/sample - loss: 0.0064 - mae: 0.0576 - mse: 0.0064\n",
      "Epoch 130/150\n",
      "404/404 [==============================] - 0s 69us/sample - loss: 0.0064 - mae: 0.0572 - mse: 0.0064\n",
      "Epoch 131/150\n",
      "404/404 [==============================] - 0s 83us/sample - loss: 0.0064 - mae: 0.0567 - mse: 0.0064\n",
      "Epoch 132/150\n",
      "404/404 [==============================] - 0s 60us/sample - loss: 0.0063 - mae: 0.0568 - mse: 0.0063\n",
      "Epoch 133/150\n",
      "404/404 [==============================] - 0s 71us/sample - loss: 0.0063 - mae: 0.0562 - mse: 0.0063\n",
      "Epoch 134/150\n",
      "404/404 [==============================] - 0s 61us/sample - loss: 0.0063 - mae: 0.0557 - mse: 0.0063\n",
      "Epoch 135/150\n",
      "404/404 [==============================] - 0s 69us/sample - loss: 0.0062 - mae: 0.0566 - mse: 0.0062\n",
      "Epoch 136/150\n",
      "404/404 [==============================] - 0s 63us/sample - loss: 0.0062 - mae: 0.0558 - mse: 0.0062\n",
      "Epoch 137/150\n",
      "404/404 [==============================] - 0s 59us/sample - loss: 0.0061 - mae: 0.0560 - mse: 0.0061\n",
      "Epoch 138/150\n",
      "404/404 [==============================] - 0s 67us/sample - loss: 0.0061 - mae: 0.0547 - mse: 0.0061\n",
      "Epoch 139/150\n",
      "404/404 [==============================] - 0s 54us/sample - loss: 0.0061 - mae: 0.0551 - mse: 0.0061\n",
      "Epoch 140/150\n",
      "404/404 [==============================] - 0s 77us/sample - loss: 0.0060 - mae: 0.0546 - mse: 0.0060\n",
      "Epoch 141/150\n",
      "404/404 [==============================] - 0s 54us/sample - loss: 0.0060 - mae: 0.0548 - mse: 0.0060\n",
      "Epoch 142/150\n",
      "404/404 [==============================] - 0s 70us/sample - loss: 0.0060 - mae: 0.0547 - mse: 0.0060\n",
      "Epoch 143/150\n",
      "404/404 [==============================] - 0s 61us/sample - loss: 0.0059 - mae: 0.0547 - mse: 0.0059\n",
      "Epoch 144/150\n",
      "404/404 [==============================] - 0s 56us/sample - loss: 0.0059 - mae: 0.0545 - mse: 0.0059\n",
      "Epoch 145/150\n",
      "404/404 [==============================] - 0s 72us/sample - loss: 0.0059 - mae: 0.0539 - mse: 0.0059\n",
      "Epoch 146/150\n",
      "404/404 [==============================] - 0s 55us/sample - loss: 0.0058 - mae: 0.0541 - mse: 0.0058\n",
      "Epoch 147/150\n",
      "404/404 [==============================] - 0s 72us/sample - loss: 0.0058 - mae: 0.0537 - mse: 0.0058\n",
      "Epoch 148/150\n",
      "404/404 [==============================] - 0s 66us/sample - loss: 0.0058 - mae: 0.0541 - mse: 0.0058\n",
      "Epoch 149/150\n",
      "404/404 [==============================] - 0s 73us/sample - loss: 0.0057 - mae: 0.0533 - mse: 0.0057\n",
      "Epoch 150/150\n",
      "404/404 [==============================] - 0s 65us/sample - loss: 0.0057 - mae: 0.0531 - mse: 0.0057\n"
     ]
    },
    {
     "data": {
      "text/plain": [
       "<tensorflow.python.keras.callbacks.History at 0x14591d0f0>"
      ]
     },
     "execution_count": 79,
     "metadata": {},
     "output_type": "execute_result"
    }
   ],
   "source": [
    "#import (already done at top but nice to see here)\n",
    "from tensorflow.keras.models import Sequential\n",
    "from tensorflow.keras.layers import Dense\n",
    "\n",
    "import numpy as np\n",
    "\n",
    "np.random.seed(812)\n",
    "\n",
    "#instantiate the model\n",
    "model = Sequential(name=\"MichellesBostonModel\")\n",
    "\n",
    "#define the model\n",
    "model.add(Dense(1, input_dim=13, activation=\"sigmoid\")) #Relu is valid option.\n",
    "model.add(Dense(4, input_dim=13, activation='relu', name=\"Dense1\"))\n",
    "model.add(Dense(3, activation='sigmoid'))\n",
    "model.add(Dense(1, activation='sigmoid'))\n",
    "\n",
    "#binary_crossentropy or categorical_crossentropy depending on info\n",
    "#model.compile(loss='binary_crossentropy', optimizer='adam', metrics=['accuracy'])\n",
    "model.compile(optimizer='rmsprop',\n",
    "              loss='mse',\n",
    "              metrics=['mae', 'mse'])\n",
    "#fit the model, use batch_size? says not to if in sequence\n",
    "model.fit(X, y, epochs=150)"
   ]
  },
  {
   "cell_type": "code",
   "execution_count": 80,
   "metadata": {},
   "outputs": [
    {
     "name": "stdout",
     "output_type": "stream",
     "text": [
      "404/404 [==============================] - 0s 342us/sample - loss: 0.0057 - mae: 0.0535 - mse: 0.0057\n",
      "mae: 5.347133055329323\n"
     ]
    }
   ],
   "source": [
    "scores = model.evaluate(X,y)\n",
    "print(f\"{model.metrics_names[1]}: {scores[1]*100}\")"
   ]
  },
  {
   "cell_type": "code",
   "execution_count": 81,
   "metadata": {},
   "outputs": [],
   "source": [
    "class Perceptron(object):\n",
    "  def __init__(self, rate = 0.01, niter = 150):\n",
    "    self.rate = rate\n",
    "    self.niter = niter\n",
    "\n",
    "  def fit(self, X, y):\n",
    "    \"\"\"Fit training data\n",
    "    X : Training vectors, X.shape : [#samples, #features]\n",
    "    y : Target values, y.shape : [#samples]\n",
    "    \"\"\"\n",
    "\n",
    "    # weights\n",
    "    self.weight = np.zeros(1 + X.shape[1])\n",
    "\n",
    "    # Number of misclassifications\n",
    "    self.errors = []  # Number of misclassifications\n",
    "\n",
    "    for i in range(self.niter):\n",
    "      err = 0\n",
    "      for xi, target in zip(X, y):\n",
    "        delta_w = self.rate * (target - self.predict(xi))\n",
    "        self.weight[1:] += delta_w * xi\n",
    "        self.weight[0] += delta_w\n",
    "        err += int(delta_w != 0.0)\n",
    "      self.errors.append(err)\n",
    "    return self\n",
    "\n",
    "  def net_input(self, X):\n",
    "    \"\"\"Calculate net input\"\"\"\n",
    "    return np.dot(X, self.weight[1:]) + self.weight[0]\n",
    "\n",
    "  def predict(self, X):\n",
    "    \"\"\"Return class label after unit step\"\"\"\n",
    "    return np.where(self.net_input(X) >= 0.0, 1, -1)"
   ]
  },
  {
   "cell_type": "code",
   "execution_count": 82,
   "metadata": {},
   "outputs": [
    {
     "data": {
      "image/png": "[encoded data removed]",
      "text/plain": [
       "<Figure size 432x288 with 1 Axes>"
      ]
     },
     "metadata": {
      "needs_background": "light"
     },
     "output_type": "display_data"
    }
   ],
   "source": [
    "import matplotlib.pyplot as plt\n",
    "\n",
    "pn = Perceptron(0.1, 150)\n",
    "pn.fit(X, y)\n",
    "plt.plot(range(1, len(pn.errors) + 1), pn.errors, marker='o')\n",
    "plt.xlabel('Epochs')\n",
    "plt.ylabel('Number of misclassifications')\n",
    "plt.show();"
   ]
  },
  {
   "cell_type": "markdown",
   "metadata": {
    "colab_type": "text",
    "id": "SfcFnOONyuNm"
   },
   "source": [
    "## Use the Keras Library to build an image recognition network using the Fashion-MNIST dataset (also comes with keras)\n",
    "\n",
    "- Load and preprocess the image data similar to how we preprocessed the MNIST data in class.\n",
    "- Make sure to one-hot encode your category labels\n",
    "- Make sure to have your final layer have as many nodes as the number of classes that you want to predict.\n",
    "- Try different hyperparameters. What is the highest accuracy that you are able to achieve.\n",
    "- Use the history object that is returned from model.fit to make graphs of the model's loss or train/validation accuracies by epoch. \n",
    "- Remember that neural networks fall prey to randomness so you may need to run your model multiple times (or use Cross Validation) in order to tell if a change to a hyperparameter is truly producing better results."
   ]
  },
  {
   "cell_type": "code",
   "execution_count": 35,
   "metadata": {
    "colab": {},
    "colab_type": "code",
    "id": "szi6-IpuzaH1"
   },
   "outputs": [],
   "source": [
    "##### Your Code Here #####\n",
    "from tensorflow.keras.datasets import fashion_mnist\n",
    "\n",
    "(x_train, y_train2), (x_test, y_test2) = fashion_mnist.load_data()"
   ]
  },
  {
   "cell_type": "code",
   "execution_count": 36,
   "metadata": {},
   "outputs": [],
   "source": [
    "from tensorflow import keras\n",
    "from tensorflow.keras.datasets import mnist\n",
    "from tensorflow.keras.models import Sequential\n",
    "from tensorflow.keras.layers import Dense, Dropout\n",
    "import numpy as np"
   ]
  },
  {
   "cell_type": "code",
   "execution_count": 37,
   "metadata": {},
   "outputs": [],
   "source": [
    "# Hyper Parameters\n",
    "batch_size = 64\n",
    "num_classes = 10\n",
    "epochs = 20"
   ]
  },
  {
   "cell_type": "code",
   "execution_count": 38,
   "metadata": {},
   "outputs": [
    {
     "data": {
      "text/plain": [
       "(28, 28)"
      ]
     },
     "execution_count": 38,
     "metadata": {},
     "output_type": "execute_result"
    }
   ],
   "source": [
    "x_train[0].shape"
   ]
  },
  {
   "cell_type": "code",
   "execution_count": 39,
   "metadata": {},
   "outputs": [
    {
     "data": {
      "text/plain": [
       "(60000, 28, 28)"
      ]
     },
     "execution_count": 39,
     "metadata": {},
     "output_type": "execute_result"
    }
   ],
   "source": [
    "x_train.shape"
   ]
  },
  {
   "cell_type": "code",
   "execution_count": 40,
   "metadata": {},
   "outputs": [
    {
     "data": {
      "text/plain": [
       "(10000, 28, 28)"
      ]
     },
     "execution_count": 40,
     "metadata": {},
     "output_type": "execute_result"
    }
   ],
   "source": [
    "x_test.shape"
   ]
  },
  {
   "cell_type": "code",
   "execution_count": 41,
   "metadata": {},
   "outputs": [],
   "source": [
    "# Reshape the data\n",
    "x_train = x_train.reshape(60000, 784)\n",
    "x_test = x_test.reshape(10000, 784)"
   ]
  },
  {
   "cell_type": "code",
   "execution_count": 42,
   "metadata": {},
   "outputs": [],
   "source": [
    "# X Variable Types\n",
    "x_train = x_train.astype('float32')\n",
    "x_test = x_test.astype('float32')"
   ]
  },
  {
   "cell_type": "code",
   "execution_count": 43,
   "metadata": {},
   "outputs": [
    {
     "data": {
      "text/plain": [
       "7"
      ]
     },
     "execution_count": 43,
     "metadata": {},
     "output_type": "execute_result"
    }
   ],
   "source": [
    "y_train[6] "
   ]
  },
  {
   "cell_type": "code",
   "execution_count": 44,
   "metadata": {},
   "outputs": [],
   "source": [
    "# Correct Encoding on Y\n",
    "# What softmax expects = [0,0,0,0,0,1,0,0,0,0]\n",
    "\n",
    "y_train2 = keras.utils.to_categorical(y_train2, num_classes)\n",
    "y_test2 = keras.utils.to_categorical(y_test2, num_classes)"
   ]
  },
  {
   "cell_type": "code",
   "execution_count": 45,
   "metadata": {},
   "outputs": [
    {
     "data": {
      "text/plain": [
       "array([1., 0., 0., 0., 0., 0., 0., 0., 0., 0.], dtype=float32)"
      ]
     },
     "execution_count": 45,
     "metadata": {},
     "output_type": "execute_result"
    }
   ],
   "source": [
    "y_train2[2]"
   ]
  },
  {
   "cell_type": "code",
   "execution_count": 46,
   "metadata": {},
   "outputs": [
    {
     "name": "stdout",
     "output_type": "stream",
     "text": [
      "Model: \"sequential\"\n",
      "_________________________________________________________________\n",
      "Layer (type)                 Output Shape              Param #   \n",
      "=================================================================\n",
      "dense_9 (Dense)              (None, 16)                12560     \n",
      "_________________________________________________________________\n",
      "dense_10 (Dense)             (None, 16)                272       \n",
      "_________________________________________________________________\n",
      "dense_11 (Dense)             (None, 16)                272       \n",
      "_________________________________________________________________\n",
      "dense_12 (Dense)             (None, 16)                272       \n",
      "_________________________________________________________________\n",
      "dense_13 (Dense)             (None, 10)                170       \n",
      "=================================================================\n",
      "Total params: 13,546\n",
      "Trainable params: 13,546\n",
      "Non-trainable params: 0\n",
      "_________________________________________________________________\n"
     ]
    }
   ],
   "source": [
    "mnist_model = Sequential()\n",
    "\n",
    "# Input => Hidden\n",
    "mnist_model.add(Dense(16, input_dim=784, activation='relu'))\n",
    "# Hidden\n",
    "mnist_model.add(Dense(16, activation='relu'))\n",
    "# Hidden\n",
    "mnist_model.add(Dense(16, activation='relu'))\n",
    "# Hidden\n",
    "mnist_model.add(Dense(16, activation='relu'))\n",
    "# Output\n",
    "mnist_model.add(Dense(10,activation='softmax'))\n",
    "\n",
    "#Compile\n",
    "mnist_model.compile(loss='categorical_crossentropy',\n",
    "                    optimizer='adam',\n",
    "                    metrics=['accuracy'])\n",
    "\n",
    "mnist_model.summary()"
   ]
  },
  {
   "cell_type": "code",
   "execution_count": 47,
   "metadata": {},
   "outputs": [],
   "source": [
    "def neural_network(X):\n",
    "    \n",
    "    dense1 = Dense(8, activation='relu', input=X)\n",
    "    dense2 = Dense(8, activation='relu')(X)\n",
    "    \n",
    "    \n",
    "    return dense2 #or return model"
   ]
  },
  {
   "cell_type": "code",
   "execution_count": null,
   "metadata": {},
   "outputs": [],
   "source": []
  },
  {
   "cell_type": "code",
   "execution_count": 49,
   "metadata": {},
   "outputs": [
    {
     "name": "stdout",
     "output_type": "stream",
     "text": [
      "10000/10000 [==============================] - 1s 58us/sample - loss: 0.5694 - accuracy: 0.8055\n",
      "accuracy: 80.54999709129333\n"
     ]
    }
   ],
   "source": [
    "history = mnist_model.fit(x_train, y_train2, batch_size=32, epochs=100, verbose=False)\n",
    "scores = mnist_model.evaluate(x_test, y_test2)\n",
    "print(f'{mnist_model.metrics_names[1]}: {scores[1]*100}')"
   ]
  },
  {
   "cell_type": "code",
   "execution_count": 50,
   "metadata": {},
   "outputs": [
    {
     "name": "stdout",
     "output_type": "stream",
     "text": [
      "Model: \"sequential_1\"\n",
      "_________________________________________________________________\n",
      "Layer (type)                 Output Shape              Param #   \n",
      "=================================================================\n",
      "dense_14 (Dense)             (None, 32)                25120     \n",
      "_________________________________________________________________\n",
      "dropout (Dropout)            (None, 32)                0         \n",
      "_________________________________________________________________\n",
      "dense_15 (Dense)             (None, 16)                528       \n",
      "_________________________________________________________________\n",
      "dropout_1 (Dropout)          (None, 16)                0         \n",
      "_________________________________________________________________\n",
      "dense_16 (Dense)             (None, 10)                170       \n",
      "=================================================================\n",
      "Total params: 25,818\n",
      "Trainable params: 25,818\n",
      "Non-trainable params: 0\n",
      "_________________________________________________________________\n"
     ]
    }
   ],
   "source": [
    "from tensorflow import keras \n",
    "from tensorflow.keras.datasets import mnist\n",
    "from tensorflow.keras.models import Sequential\n",
    "from tensorflow.keras.layers import Dense, Dropout\n",
    "\n",
    "import numpy as np\n",
    "\n",
    "mnist_model = Sequential()\n",
    "\n",
    "# Hidden\n",
    "mnist_model.add(Dense(32, input_dim=784, activation='relu'))\n",
    "mnist_model.add(Dropout(0.2))\n",
    "mnist_model.add(Dense(16, activation='relu'))\n",
    "mnist_model.add(Dropout(0.2))\n",
    "# Output Layer\n",
    "mnist_model.add(Dense(10, activation='softmax'))\n",
    "\n",
    "mnist_model.compile(loss='categorical_crossentropy',\n",
    "                    optimizer='adam', \n",
    "                    metrics=['accuracy'])\n",
    "mnist_model.summary()"
   ]
  },
  {
   "cell_type": "code",
   "execution_count": 51,
   "metadata": {},
   "outputs": [
    {
     "name": "stdout",
     "output_type": "stream",
     "text": [
      "10000/10000 [==============================] - 0s 40us/sample - loss: 0.7512 - accuracy: 0.7883\n",
      "accuracy: 78.82999777793884\n"
     ]
    }
   ],
   "source": [
    "history = mnist_model.fit(x_train, y_train2, batch_size=32, epochs=100, verbose=False)\n",
    "scores = mnist_model.evaluate(x_test, y_test2)\n",
    "print(f'{mnist_model.metrics_names[1]}: {scores[1]*100}')"
   ]
  },
  {
   "cell_type": "code",
   "execution_count": 56,
   "metadata": {},
   "outputs": [
    {
     "name": "stdout",
     "output_type": "stream",
     "text": [
      "Model: \"sequential_4\"\n",
      "_________________________________________________________________\n",
      "Layer (type)                 Output Shape              Param #   \n",
      "=================================================================\n",
      "dense_25 (Dense)             (None, 32)                25120     \n",
      "_________________________________________________________________\n",
      "dense_26 (Dense)             (None, 13)                429       \n",
      "_________________________________________________________________\n",
      "dense_27 (Dense)             (None, 16)                224       \n",
      "_________________________________________________________________\n",
      "dense_28 (Dense)             (None, 10)                170       \n",
      "=================================================================\n",
      "Total params: 25,943\n",
      "Trainable params: 25,943\n",
      "Non-trainable params: 0\n",
      "_________________________________________________________________\n"
     ]
    }
   ],
   "source": [
    "from tensorflow import keras \n",
    "from tensorflow.keras.datasets import mnist\n",
    "from tensorflow.keras.models import Sequential\n",
    "from tensorflow.keras.layers import Dense, Dropout\n",
    "\n",
    "import numpy as np\n",
    "\n",
    "mnist_model2 = Sequential()\n",
    "\n",
    "# Hidden\n",
    "mnist_model2.add(Dense(32, input_dim=784, activation='relu'))\n",
    "mnist_model2.add(Dense(13, activation='relu'))\n",
    "mnist_model2.add(Dense(16, activation='relu'))\n",
    "\n",
    "# Output Layer\n",
    "mnist_model2.add(Dense(10, activation='softmax'))\n",
    "\n",
    "mnist_model2.compile(loss='categorical_crossentropy',\n",
    "                    optimizer='adam', \n",
    "                    metrics=['accuracy'])\n",
    "mnist_model2.summary()"
   ]
  },
  {
   "cell_type": "code",
   "execution_count": 57,
   "metadata": {},
   "outputs": [
    {
     "name": "stdout",
     "output_type": "stream",
     "text": [
      "10000/10000 [==============================] - 0s 42us/sample - loss: 0.5068 - accuracy: 0.8470\n",
      "accuracy: 84.7000002861023\n"
     ]
    }
   ],
   "source": [
    "history = mnist_model2.fit(x_train, y_train2, batch_size=32, epochs=100, verbose=False)\n",
    "scores = mnist_model2.evaluate(x_test, y_test2)\n",
    "print(f'{mnist_model2.metrics_names[1]}: {scores[1]*100}')"
   ]
  },
  {
   "cell_type": "markdown",
   "metadata": {
    "colab_type": "text",
    "id": "zv_3xNMjzdLI"
   },
   "source": [
    "## Stretch Goals:\n",
    "\n",
    "- Use Hyperparameter Tuning to make the accuracy of your models as high as possible. (error as low as possible)\n",
    "- Use Cross Validation techniques to get more consistent results with your model.\n",
    "- Use GridSearchCV to try different combinations of hyperparameters. \n",
    "- Start looking into other types of Keras layers for CNNs and RNNs maybe try and build a CNN model for fashion-MNIST to see how the results compare."
   ]
  }
 ],
 "metadata": {
  "colab": {
   "name": "LS_DS_433_Keras_Assignment.ipynb",
   "provenance": [],
   "version": "0.3.2"
  },
  "kernelspec": {
   "display_name": "U4-S2-NN(v1)",
   "language": "python",
   "name": "u4-s2-nn"
  },
  "language_info": {
   "codemirror_mode": {
    "name": "ipython",
    "version": 3
   },
   "file_extension": ".py",
   "mimetype": "text/x-python",
   "name": "python",
   "nbconvert_exporter": "python",
   "pygments_lexer": "ipython3",
   "version": "3.7.0"
  }
 },
 "nbformat": 4,
 "nbformat_minor": 4
}
