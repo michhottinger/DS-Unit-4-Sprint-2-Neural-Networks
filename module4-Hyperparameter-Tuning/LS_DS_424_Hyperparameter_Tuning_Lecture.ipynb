{
 "cells": [
  {
   "cell_type": "markdown",
   "metadata": {
    "colab_type": "text",
    "id": "41TS0Sa0rDNx"
   },
   "source": [
    "Lambda School Data Science\n",
    "\n",
    "*Unit 4, Sprint 2, Module 4*\n",
    "\n",
    "---"
   ]
  },
  {
   "cell_type": "markdown",
   "metadata": {
    "colab_type": "text",
    "id": "41TS0Sa0rDNx"
   },
   "source": [
    "# Neural Networks & GPUs (Prepare)\n",
    "*aka Hyperparameter Tuning*\n",
    "\n",
    "*aka Big Servers for Big Problems*"
   ]
  },
  {
   "cell_type": "markdown",
   "metadata": {
    "colab_type": "text",
    "id": "41TS0Sa0rDNx"
   },
   "source": [
    "## Learning Objectives\n",
    "* <a href=\"#p1\">Part 1</a>: Describe the major hyperparemeters to tune\n",
    "* <a href=\"#p2\">Part 2</a>: Implement an experiment tracking framework\n",
    "* <a href=\"#p3\">Part 3</a>: Search the hyperparameter space using RandomSearch (Optional)"
   ]
  },
  {
   "cell_type": "code",
   "execution_count": 1,
   "metadata": {},
   "outputs": [],
   "source": [
    "wandb_group = \"ds8\"\n",
    "wandb_project = \"inclass\""
   ]
  },
  {
   "cell_type": "markdown",
   "metadata": {},
   "source": [
    "# Hyperparameter Options (Learn)\n",
    "<a id=\"p1\"></a>"
   ]
  },
  {
   "cell_type": "markdown",
   "metadata": {},
   "source": [
    "## Overview\n",
    "\n",
    "Hyperparameter tuning is much more important with neural networks than it has been with any other models that we have considered up to this point. Other supervised learning models might have a couple of parameters, but neural networks can have dozens. These can substantially affect the accuracy of our models and although it can be a time consuming process is a necessary step when working with neural networks.\n",
    "​\n",
    "Hyperparameter tuning comes with a challenge. How can we compare models specified with different hyperparameters if our model's final error metric can vary somewhat erratically? How do we avoid just getting unlucky and selecting the wrong hyperparameter? This is a problem that to a certain degree we just have to live with as we test and test again. However, we can minimize it somewhat by pairing our experiments with Cross Validation to reduce the variance of our final accuracy values."
   ]
  },
  {
   "cell_type": "markdown",
   "metadata": {
    "colab_type": "text",
    "id": "0s0o2pqBs88q"
   },
   "source": [
    "### Load Boston Housing Data"
   ]
  },
  {
   "cell_type": "code",
   "execution_count": 1,
   "metadata": {},
   "outputs": [],
   "source": [
    "from tensorflow.keras.datasets import boston_housing\n",
    "\n",
    "(x_train, y_train), (x_test, y_test) = boston_housing.load_data()"
   ]
  },
  {
   "cell_type": "markdown",
   "metadata": {
    "colab_type": "text",
    "id": "Pm7zow5IvaTt"
   },
   "source": [
    "### Normalizing Input Data\n",
    "\n",
    "It's not 100% necessary to normalize/scale your input data before feeding it to a neural network, the network can learn the appropriate weights to deal with data of as long as it is numerically represented,  but it is recommended as it can help **make training faster** and **reduces the chances that gradient descent might get stuck in a local optimum**.\n",
    "\n",
    "<https://stackoverflow.com/questions/4674623/why-do-we-have-to-normalize-the-input-for-an-artificial-neural-network>"
   ]
  },
  {
   "cell_type": "code",
   "execution_count": 2,
   "metadata": {},
   "outputs": [
    {
     "name": "stdout",
     "output_type": "stream",
     "text": [
      "[[-0.27224633 -0.48361547 -0.43576161 -0.25683275 -0.1652266  -0.1764426\n",
      "   0.81306188  0.1166983  -0.62624905 -0.59517003  1.14850044  0.44807713\n",
      "   0.8252202 ]\n",
      " [-0.40342651  2.99178419 -1.33391162 -0.25683275 -1.21518188  1.89434613\n",
      "  -1.91036058  1.24758524 -0.85646254 -0.34843254 -1.71818909  0.43190599\n",
      "  -1.32920239]\n",
      " [ 0.1249402  -0.48361547  1.0283258  -0.25683275  0.62864202 -1.82968811\n",
      "   1.11048828 -1.18743907  1.67588577  1.5652875   0.78447637  0.22061726\n",
      "  -1.30850006]\n",
      " [-0.40149354 -0.48361547 -0.86940196 -0.25683275 -0.3615597  -0.3245576\n",
      "  -1.23667187  1.10717989 -0.51114231 -1.094663    0.78447637  0.44807713\n",
      "  -0.65292624]\n",
      " [-0.0056343  -0.48361547  1.0283258  -0.25683275  1.32861221  0.15364225\n",
      "   0.69480801 -0.57857203  1.67588577  1.5652875   0.78447637  0.3898823\n",
      "   0.26349695]\n",
      " [-0.37502238 -0.48361547 -0.54747912 -0.25683275 -0.54935658 -0.78865126\n",
      "   0.18954148  0.48371503 -0.51114231 -0.71552978  0.51145832  0.38669063\n",
      "  -0.13812828]\n",
      " [ 0.58963463 -0.48361547  1.0283258  -0.25683275  1.21764133 -1.03127774\n",
      "   1.11048828 -1.06518235  1.67588577  1.5652875   0.78447637  0.44807713\n",
      "   1.49873604]\n",
      " [ 0.0381708  -0.48361547  1.24588095 -0.25683275  2.67733525 -1.12719983\n",
      "   1.11048828 -1.14833073 -0.51114231 -0.01744323 -1.71818909  0.44807713\n",
      "   1.88793986]\n",
      " [-0.17228416 -0.48361547  1.24588095 -0.25683275  2.67733525 -0.90150078\n",
      "   1.11048828 -1.09664657 -0.51114231 -0.01744323 -1.71818909 -1.97365769\n",
      "   0.53952803]\n",
      " [-0.22932104 -0.48361547  1.58544339 -0.25683275  0.56888847 -1.76056777\n",
      "   1.11048828 -1.13471925 -0.62624905  0.18716835  1.23950646  0.44807713\n",
      "   2.99068404]]\n"
     ]
    }
   ],
   "source": [
    "from sklearn.preprocessing import StandardScaler\n",
    "\n",
    "scaler = StandardScaler()\n",
    "\n",
    "x_train = scaler.fit_transform(x_train)\n",
    "x_test = scaler.transform(x_test)\n",
    "print(x_train[:10])"
   ]
  },
  {
   "cell_type": "markdown",
   "metadata": {
    "colab_type": "text",
    "id": "l6hgCWbir90R"
   },
   "source": [
    "### Model Validation using an automatic verification Dataset\n",
    "\n",
    "Instead of doing seperate train test split class, Keras has a really nice feature that you can set the validation.data argument when fitting your model and Keras will take that portion of your test data and use it as a validation dataset. "
   ]
  },
  {
   "cell_type": "code",
   "execution_count": 3,
   "metadata": {
    "colab": {
     "base_uri": "https://localhost:8080/",
     "height": 1750
    },
    "colab_type": "code",
    "id": "GMXVfmzXp1Oo",
    "outputId": "b05e251e-508f-46e6-865b-f869ae2a5dc4"
   },
   "outputs": [
    {
     "name": "stderr",
     "output_type": "stream",
     "text": [
      "WARNING: Logging before flag parsing goes to stderr.\n",
      "W0123 13:21:37.901751 140735661650816 deprecation.py:506] From /Users/michelle/opt/anaconda3/envs/U4-S2-NN/lib/python3.7/site-packages/tensorflow/python/ops/init_ops.py:1251: calling VarianceScaling.__init__ (from tensorflow.python.ops.init_ops) with dtype is deprecated and will be removed in a future version.\n",
      "Instructions for updating:\n",
      "Call initializer instance with the dtype argument instead of passing it to the constructor\n"
     ]
    },
    {
     "name": "stdout",
     "output_type": "stream",
     "text": [
      "Train on 404 samples, validate on 102 samples\n",
      "Epoch 1/75\n",
      "404/404 [==============================] - 0s 570us/sample - loss: 490.0535 - mean_squared_error: 490.0534 - mean_absolute_error: 19.9554 - val_loss: 398.2172 - val_mean_squared_error: 398.2172 - val_mean_absolute_error: 17.6624\n",
      "Epoch 2/75\n",
      "404/404 [==============================] - 0s 186us/sample - loss: 231.3903 - mean_squared_error: 231.3903 - mean_absolute_error: 12.4744 - val_loss: 96.5147 - val_mean_squared_error: 96.5147 - val_mean_absolute_error: 8.4068\n",
      "Epoch 3/75\n",
      "404/404 [==============================] - 0s 196us/sample - loss: 56.3946 - mean_squared_error: 56.3946 - mean_absolute_error: 5.7052 - val_loss: 38.4174 - val_mean_squared_error: 38.4174 - val_mean_absolute_error: 4.7972\n",
      "Epoch 4/75\n",
      "404/404 [==============================] - 0s 194us/sample - loss: 30.7410 - mean_squared_error: 30.7410 - mean_absolute_error: 3.8747 - val_loss: 27.7420 - val_mean_squared_error: 27.7420 - val_mean_absolute_error: 4.1444\n",
      "Epoch 5/75\n",
      "404/404 [==============================] - 0s 195us/sample - loss: 23.0465 - mean_squared_error: 23.0465 - mean_absolute_error: 3.3851 - val_loss: 24.9074 - val_mean_squared_error: 24.9074 - val_mean_absolute_error: 3.8092\n",
      "Epoch 6/75\n",
      "404/404 [==============================] - 0s 210us/sample - loss: 19.9336 - mean_squared_error: 19.9336 - mean_absolute_error: 3.0919 - val_loss: 23.8066 - val_mean_squared_error: 23.8066 - val_mean_absolute_error: 3.6810\n",
      "Epoch 7/75\n",
      "404/404 [==============================] - 0s 179us/sample - loss: 17.8630 - mean_squared_error: 17.8630 - mean_absolute_error: 2.9267 - val_loss: 22.8162 - val_mean_squared_error: 22.8162 - val_mean_absolute_error: 3.5323\n",
      "Epoch 8/75\n",
      "404/404 [==============================] - 0s 203us/sample - loss: 16.4809 - mean_squared_error: 16.4809 - mean_absolute_error: 2.8166 - val_loss: 23.1527 - val_mean_squared_error: 23.1527 - val_mean_absolute_error: 3.5227\n",
      "Epoch 9/75\n",
      "404/404 [==============================] - 0s 209us/sample - loss: 15.0857 - mean_squared_error: 15.0857 - mean_absolute_error: 2.6937 - val_loss: 22.8469 - val_mean_squared_error: 22.8469 - val_mean_absolute_error: 3.4464\n",
      "Epoch 10/75\n",
      "404/404 [==============================] - 0s 195us/sample - loss: 14.1240 - mean_squared_error: 14.1240 - mean_absolute_error: 2.6220 - val_loss: 22.4766 - val_mean_squared_error: 22.4766 - val_mean_absolute_error: 3.3622\n",
      "Epoch 11/75\n",
      "404/404 [==============================] - 0s 205us/sample - loss: 13.1334 - mean_squared_error: 13.1334 - mean_absolute_error: 2.5923 - val_loss: 24.0398 - val_mean_squared_error: 24.0398 - val_mean_absolute_error: 3.3872\n",
      "Epoch 12/75\n",
      "404/404 [==============================] - 0s 213us/sample - loss: 12.4552 - mean_squared_error: 12.4552 - mean_absolute_error: 2.5030 - val_loss: 23.5113 - val_mean_squared_error: 23.5113 - val_mean_absolute_error: 3.3189\n",
      "Epoch 13/75\n",
      "404/404 [==============================] - 0s 253us/sample - loss: 11.8823 - mean_squared_error: 11.8823 - mean_absolute_error: 2.4651 - val_loss: 22.7493 - val_mean_squared_error: 22.7493 - val_mean_absolute_error: 3.2414\n",
      "Epoch 14/75\n",
      "404/404 [==============================] - 0s 263us/sample - loss: 11.3371 - mean_squared_error: 11.3371 - mean_absolute_error: 2.3845 - val_loss: 23.5278 - val_mean_squared_error: 23.5278 - val_mean_absolute_error: 3.2913\n",
      "Epoch 15/75\n",
      "404/404 [==============================] - 0s 186us/sample - loss: 11.1744 - mean_squared_error: 11.1745 - mean_absolute_error: 2.3500 - val_loss: 23.3536 - val_mean_squared_error: 23.3536 - val_mean_absolute_error: 3.2471\n",
      "Epoch 16/75\n",
      "404/404 [==============================] - 0s 186us/sample - loss: 10.7434 - mean_squared_error: 10.7434 - mean_absolute_error: 2.3423 - val_loss: 23.0399 - val_mean_squared_error: 23.0399 - val_mean_absolute_error: 3.1856\n",
      "Epoch 17/75\n",
      "404/404 [==============================] - 0s 185us/sample - loss: 10.3896 - mean_squared_error: 10.3896 - mean_absolute_error: 2.2834 - val_loss: 23.3320 - val_mean_squared_error: 23.3321 - val_mean_absolute_error: 3.2025\n",
      "Epoch 18/75\n",
      "404/404 [==============================] - 0s 198us/sample - loss: 10.1182 - mean_squared_error: 10.1182 - mean_absolute_error: 2.2520 - val_loss: 24.0393 - val_mean_squared_error: 24.0393 - val_mean_absolute_error: 3.2137\n",
      "Epoch 19/75\n",
      "404/404 [==============================] - 0s 193us/sample - loss: 10.0506 - mean_squared_error: 10.0506 - mean_absolute_error: 2.2791 - val_loss: 23.2859 - val_mean_squared_error: 23.2859 - val_mean_absolute_error: 3.1392\n",
      "Epoch 20/75\n",
      "404/404 [==============================] - 0s 198us/sample - loss: 9.7836 - mean_squared_error: 9.7836 - mean_absolute_error: 2.2294 - val_loss: 22.6931 - val_mean_squared_error: 22.6931 - val_mean_absolute_error: 3.1000\n",
      "Epoch 21/75\n",
      "404/404 [==============================] - 0s 185us/sample - loss: 9.6723 - mean_squared_error: 9.6723 - mean_absolute_error: 2.2123 - val_loss: 24.7043 - val_mean_squared_error: 24.7043 - val_mean_absolute_error: 3.1983\n",
      "Epoch 22/75\n",
      "404/404 [==============================] - 0s 184us/sample - loss: 9.5074 - mean_squared_error: 9.5074 - mean_absolute_error: 2.2456 - val_loss: 22.0184 - val_mean_squared_error: 22.0184 - val_mean_absolute_error: 3.0300\n",
      "Epoch 23/75\n",
      "404/404 [==============================] - 0s 246us/sample - loss: 9.2598 - mean_squared_error: 9.2598 - mean_absolute_error: 2.1732 - val_loss: 24.7915 - val_mean_squared_error: 24.7915 - val_mean_absolute_error: 3.1873\n",
      "Epoch 24/75\n",
      "404/404 [==============================] - 0s 235us/sample - loss: 9.2741 - mean_squared_error: 9.2741 - mean_absolute_error: 2.1899 - val_loss: 23.2416 - val_mean_squared_error: 23.2417 - val_mean_absolute_error: 3.0956\n",
      "Epoch 25/75\n",
      "404/404 [==============================] - 0s 254us/sample - loss: 9.1700 - mean_squared_error: 9.1700 - mean_absolute_error: 2.1464 - val_loss: 22.2480 - val_mean_squared_error: 22.2480 - val_mean_absolute_error: 3.0105\n",
      "Epoch 26/75\n",
      "404/404 [==============================] - 0s 251us/sample - loss: 8.9560 - mean_squared_error: 8.9560 - mean_absolute_error: 2.1303 - val_loss: 22.3859 - val_mean_squared_error: 22.3859 - val_mean_absolute_error: 3.0088\n",
      "Epoch 27/75\n",
      "404/404 [==============================] - 0s 244us/sample - loss: 9.0510 - mean_squared_error: 9.0510 - mean_absolute_error: 2.1400 - val_loss: 23.0104 - val_mean_squared_error: 23.0104 - val_mean_absolute_error: 3.0414\n",
      "Epoch 28/75\n",
      "404/404 [==============================] - 0s 248us/sample - loss: 8.8895 - mean_squared_error: 8.8895 - mean_absolute_error: 2.1245 - val_loss: 20.9260 - val_mean_squared_error: 20.9260 - val_mean_absolute_error: 2.9106\n",
      "Epoch 29/75\n",
      "404/404 [==============================] - 0s 243us/sample - loss: 8.7419 - mean_squared_error: 8.7419 - mean_absolute_error: 2.1137 - val_loss: 21.8809 - val_mean_squared_error: 21.8809 - val_mean_absolute_error: 2.9406\n",
      "Epoch 30/75\n",
      "404/404 [==============================] - 0s 248us/sample - loss: 8.6192 - mean_squared_error: 8.6192 - mean_absolute_error: 2.0792 - val_loss: 22.9090 - val_mean_squared_error: 22.9090 - val_mean_absolute_error: 3.0306\n",
      "Epoch 31/75\n",
      "404/404 [==============================] - 0s 268us/sample - loss: 8.5305 - mean_squared_error: 8.5305 - mean_absolute_error: 2.0813 - val_loss: 23.1560 - val_mean_squared_error: 23.1560 - val_mean_absolute_error: 3.0183\n",
      "Epoch 32/75\n",
      "404/404 [==============================] - 0s 252us/sample - loss: 8.5104 - mean_squared_error: 8.5104 - mean_absolute_error: 2.0651 - val_loss: 22.1836 - val_mean_squared_error: 22.1836 - val_mean_absolute_error: 2.9317\n",
      "Epoch 33/75\n",
      "404/404 [==============================] - 0s 252us/sample - loss: 8.3891 - mean_squared_error: 8.3891 - mean_absolute_error: 2.0553 - val_loss: 22.6649 - val_mean_squared_error: 22.6649 - val_mean_absolute_error: 2.9803\n",
      "Epoch 34/75\n",
      "404/404 [==============================] - 0s 259us/sample - loss: 8.3322 - mean_squared_error: 8.3322 - mean_absolute_error: 2.0653 - val_loss: 22.3670 - val_mean_squared_error: 22.3670 - val_mean_absolute_error: 2.9431\n",
      "Epoch 35/75\n",
      "404/404 [==============================] - 0s 244us/sample - loss: 8.3062 - mean_squared_error: 8.3062 - mean_absolute_error: 2.0195 - val_loss: 21.3575 - val_mean_squared_error: 21.3575 - val_mean_absolute_error: 2.9482\n",
      "Epoch 36/75\n",
      "404/404 [==============================] - 0s 239us/sample - loss: 7.9952 - mean_squared_error: 7.9952 - mean_absolute_error: 2.0031 - val_loss: 21.6819 - val_mean_squared_error: 21.6819 - val_mean_absolute_error: 2.9145\n",
      "Epoch 37/75\n",
      "404/404 [==============================] - 0s 231us/sample - loss: 8.0936 - mean_squared_error: 8.0936 - mean_absolute_error: 2.0235 - val_loss: 23.3477 - val_mean_squared_error: 23.3477 - val_mean_absolute_error: 3.0650\n",
      "Epoch 38/75\n",
      "404/404 [==============================] - 0s 219us/sample - loss: 8.2347 - mean_squared_error: 8.2347 - mean_absolute_error: 2.0499 - val_loss: 22.4942 - val_mean_squared_error: 22.4942 - val_mean_absolute_error: 2.9547\n",
      "Epoch 39/75\n",
      "404/404 [==============================] - 0s 229us/sample - loss: 7.7362 - mean_squared_error: 7.7362 - mean_absolute_error: 1.9941 - val_loss: 20.5049 - val_mean_squared_error: 20.5049 - val_mean_absolute_error: 2.8022\n",
      "Epoch 40/75\n",
      "404/404 [==============================] - 0s 210us/sample - loss: 7.6534 - mean_squared_error: 7.6534 - mean_absolute_error: 1.9601 - val_loss: 21.6292 - val_mean_squared_error: 21.6292 - val_mean_absolute_error: 2.9418\n",
      "Epoch 41/75\n",
      "404/404 [==============================] - 0s 186us/sample - loss: 7.6335 - mean_squared_error: 7.6335 - mean_absolute_error: 1.9727 - val_loss: 20.1330 - val_mean_squared_error: 20.1330 - val_mean_absolute_error: 2.7711\n",
      "Epoch 42/75\n",
      "404/404 [==============================] - 0s 278us/sample - loss: 7.6324 - mean_squared_error: 7.6324 - mean_absolute_error: 1.9780 - val_loss: 21.0962 - val_mean_squared_error: 21.0962 - val_mean_absolute_error: 2.9365\n",
      "Epoch 43/75\n",
      "404/404 [==============================] - 0s 239us/sample - loss: 7.5170 - mean_squared_error: 7.5170 - mean_absolute_error: 1.9378 - val_loss: 20.7448 - val_mean_squared_error: 20.7448 - val_mean_absolute_error: 2.7890\n",
      "Epoch 44/75\n",
      "404/404 [==============================] - 0s 211us/sample - loss: 7.3702 - mean_squared_error: 7.3702 - mean_absolute_error: 1.9479 - val_loss: 20.7637 - val_mean_squared_error: 20.7637 - val_mean_absolute_error: 2.7843\n",
      "Epoch 45/75\n",
      "404/404 [==============================] - 0s 191us/sample - loss: 7.5085 - mean_squared_error: 7.5085 - mean_absolute_error: 1.9165 - val_loss: 22.0807 - val_mean_squared_error: 22.0807 - val_mean_absolute_error: 2.9055\n",
      "Epoch 46/75\n",
      "404/404 [==============================] - 0s 229us/sample - loss: 7.4440 - mean_squared_error: 7.4440 - mean_absolute_error: 1.9480 - val_loss: 19.9362 - val_mean_squared_error: 19.9362 - val_mean_absolute_error: 2.7704\n",
      "Epoch 47/75\n",
      "404/404 [==============================] - 0s 228us/sample - loss: 7.0814 - mean_squared_error: 7.0814 - mean_absolute_error: 1.9241 - val_loss: 21.7144 - val_mean_squared_error: 21.7144 - val_mean_absolute_error: 2.9167\n",
      "Epoch 48/75\n",
      "404/404 [==============================] - 0s 215us/sample - loss: 7.2580 - mean_squared_error: 7.2580 - mean_absolute_error: 1.9181 - val_loss: 20.7423 - val_mean_squared_error: 20.7423 - val_mean_absolute_error: 2.8008\n",
      "Epoch 49/75\n",
      "404/404 [==============================] - 0s 248us/sample - loss: 7.1840 - mean_squared_error: 7.1840 - mean_absolute_error: 1.9217 - val_loss: 19.7995 - val_mean_squared_error: 19.7995 - val_mean_absolute_error: 2.7080\n",
      "Epoch 50/75\n",
      "404/404 [==============================] - 0s 229us/sample - loss: 6.8955 - mean_squared_error: 6.8955 - mean_absolute_error: 1.8626 - val_loss: 19.8117 - val_mean_squared_error: 19.8117 - val_mean_absolute_error: 2.7436\n",
      "Epoch 51/75\n",
      "404/404 [==============================] - 0s 170us/sample - loss: 6.9405 - mean_squared_error: 6.9405 - mean_absolute_error: 1.8890 - val_loss: 19.8604 - val_mean_squared_error: 19.8604 - val_mean_absolute_error: 2.7482\n",
      "Epoch 52/75\n",
      "404/404 [==============================] - 0s 169us/sample - loss: 6.7608 - mean_squared_error: 6.7608 - mean_absolute_error: 1.8747 - val_loss: 19.4019 - val_mean_squared_error: 19.4019 - val_mean_absolute_error: 2.7792\n",
      "Epoch 53/75\n",
      "404/404 [==============================] - 0s 169us/sample - loss: 7.0518 - mean_squared_error: 7.0518 - mean_absolute_error: 1.8823 - val_loss: 19.6023 - val_mean_squared_error: 19.6023 - val_mean_absolute_error: 2.7112\n",
      "Epoch 54/75\n",
      "404/404 [==============================] - 0s 181us/sample - loss: 6.8871 - mean_squared_error: 6.8871 - mean_absolute_error: 1.8867 - val_loss: 19.7417 - val_mean_squared_error: 19.7417 - val_mean_absolute_error: 2.7615\n",
      "Epoch 55/75\n",
      "404/404 [==============================] - 0s 197us/sample - loss: 6.6763 - mean_squared_error: 6.6763 - mean_absolute_error: 1.8381 - val_loss: 19.1521 - val_mean_squared_error: 19.1521 - val_mean_absolute_error: 2.6943\n",
      "Epoch 56/75\n",
      "404/404 [==============================] - 0s 254us/sample - loss: 6.4884 - mean_squared_error: 6.4884 - mean_absolute_error: 1.8144 - val_loss: 19.3553 - val_mean_squared_error: 19.3553 - val_mean_absolute_error: 2.7389\n",
      "Epoch 57/75\n",
      "404/404 [==============================] - 0s 233us/sample - loss: 6.5331 - mean_squared_error: 6.5331 - mean_absolute_error: 1.8399 - val_loss: 20.9405 - val_mean_squared_error: 20.9405 - val_mean_absolute_error: 2.8646\n",
      "Epoch 58/75\n",
      "404/404 [==============================] - 0s 184us/sample - loss: 6.7342 - mean_squared_error: 6.7342 - mean_absolute_error: 1.8331 - val_loss: 22.9911 - val_mean_squared_error: 22.9911 - val_mean_absolute_error: 3.0028\n",
      "Epoch 59/75\n",
      "404/404 [==============================] - 0s 178us/sample - loss: 6.5701 - mean_squared_error: 6.5701 - mean_absolute_error: 1.8455 - val_loss: 19.3855 - val_mean_squared_error: 19.3855 - val_mean_absolute_error: 2.7379\n",
      "Epoch 60/75\n",
      "404/404 [==============================] - 0s 180us/sample - loss: 6.3719 - mean_squared_error: 6.3719 - mean_absolute_error: 1.8011 - val_loss: 19.5990 - val_mean_squared_error: 19.5990 - val_mean_absolute_error: 2.7122\n",
      "Epoch 61/75\n",
      "404/404 [==============================] - 0s 174us/sample - loss: 6.2851 - mean_squared_error: 6.2851 - mean_absolute_error: 1.7751 - val_loss: 19.3022 - val_mean_squared_error: 19.3022 - val_mean_absolute_error: 2.7185\n",
      "Epoch 62/75\n",
      "404/404 [==============================] - 0s 182us/sample - loss: 6.2671 - mean_squared_error: 6.2671 - mean_absolute_error: 1.7716 - val_loss: 18.8282 - val_mean_squared_error: 18.8282 - val_mean_absolute_error: 2.6600\n",
      "Epoch 63/75\n",
      "404/404 [==============================] - 0s 231us/sample - loss: 6.2348 - mean_squared_error: 6.2348 - mean_absolute_error: 1.7589 - val_loss: 18.7529 - val_mean_squared_error: 18.7529 - val_mean_absolute_error: 2.6739\n",
      "Epoch 64/75\n",
      "404/404 [==============================] - 0s 243us/sample - loss: 6.0216 - mean_squared_error: 6.0216 - mean_absolute_error: 1.7389 - val_loss: 20.2712 - val_mean_squared_error: 20.2712 - val_mean_absolute_error: 2.8330\n",
      "Epoch 65/75\n",
      "404/404 [==============================] - 0s 228us/sample - loss: 6.0252 - mean_squared_error: 6.0252 - mean_absolute_error: 1.7693 - val_loss: 19.1335 - val_mean_squared_error: 19.1335 - val_mean_absolute_error: 2.6905\n",
      "Epoch 66/75\n",
      "404/404 [==============================] - 0s 203us/sample - loss: 5.9634 - mean_squared_error: 5.9634 - mean_absolute_error: 1.7527 - val_loss: 18.7009 - val_mean_squared_error: 18.7009 - val_mean_absolute_error: 2.6708\n",
      "Epoch 67/75\n",
      "404/404 [==============================] - 0s 168us/sample - loss: 5.8888 - mean_squared_error: 5.8888 - mean_absolute_error: 1.7126 - val_loss: 20.0326 - val_mean_squared_error: 20.0326 - val_mean_absolute_error: 2.7814\n",
      "Epoch 68/75\n",
      "404/404 [==============================] - 0s 181us/sample - loss: 6.1340 - mean_squared_error: 6.1340 - mean_absolute_error: 1.7931 - val_loss: 20.1440 - val_mean_squared_error: 20.1440 - val_mean_absolute_error: 2.8244\n",
      "Epoch 69/75\n",
      "404/404 [==============================] - 0s 246us/sample - loss: 5.7028 - mean_squared_error: 5.7028 - mean_absolute_error: 1.7089 - val_loss: 18.3577 - val_mean_squared_error: 18.3577 - val_mean_absolute_error: 2.6282\n",
      "Epoch 70/75\n",
      "404/404 [==============================] - 0s 245us/sample - loss: 6.1347 - mean_squared_error: 6.1347 - mean_absolute_error: 1.8078 - val_loss: 17.7270 - val_mean_squared_error: 17.7270 - val_mean_absolute_error: 2.5809\n",
      "Epoch 71/75\n",
      "404/404 [==============================] - 0s 184us/sample - loss: 6.0204 - mean_squared_error: 6.0204 - mean_absolute_error: 1.7457 - val_loss: 18.6790 - val_mean_squared_error: 18.6791 - val_mean_absolute_error: 2.6941\n",
      "Epoch 72/75\n",
      "404/404 [==============================] - 0s 197us/sample - loss: 5.9489 - mean_squared_error: 5.9489 - mean_absolute_error: 1.7572 - val_loss: 18.5150 - val_mean_squared_error: 18.5150 - val_mean_absolute_error: 2.6796\n",
      "Epoch 73/75\n",
      "404/404 [==============================] - 0s 174us/sample - loss: 5.8439 - mean_squared_error: 5.8439 - mean_absolute_error: 1.6876 - val_loss: 17.2892 - val_mean_squared_error: 17.2892 - val_mean_absolute_error: 2.5484\n",
      "Epoch 74/75\n",
      "404/404 [==============================] - 0s 175us/sample - loss: 5.8720 - mean_squared_error: 5.8720 - mean_absolute_error: 1.7562 - val_loss: 18.5007 - val_mean_squared_error: 18.5007 - val_mean_absolute_error: 2.6799\n",
      "Epoch 75/75\n",
      "404/404 [==============================] - 0s 192us/sample - loss: 5.6373 - mean_squared_error: 5.6373 - mean_absolute_error: 1.7257 - val_loss: 17.4923 - val_mean_squared_error: 17.4923 - val_mean_absolute_error: 2.6214\n"
     ]
    },
    {
     "data": {
      "text/plain": [
       "<tensorflow.python.keras.callbacks.History at 0x128f7a898>"
      ]
     },
     "execution_count": 3,
     "metadata": {},
     "output_type": "execute_result"
    }
   ],
   "source": [
    "from tensorflow import keras\n",
    "from tensorflow.keras.models import Sequential\n",
    "from tensorflow.keras.layers import Dense\n",
    "\n",
    "# Important Hyperparameters\n",
    "inputs = x_train.shape[1]\n",
    "epochs = 75\n",
    "batch_size = 10\n",
    "\n",
    "\n",
    "# Create Model\n",
    "model = Sequential()\n",
    "model.add(Dense(64, activation='relu', input_shape=(inputs,)))\n",
    "model.add(Dense(64, activation='relu'))\n",
    "model.add(Dense(1))\n",
    "\n",
    "# Compile Model\n",
    "model.compile(optimizer='adam', loss='mse', metrics=['mse', 'mae'])\n",
    "\n",
    "# Fit Model\n",
    "model.fit(x_train, y_train, \n",
    "          validation_data=(x_test,y_test), \n",
    "          epochs=epochs, \n",
    "          batch_size=batch_size\n",
    "         )"
   ]
  },
  {
   "cell_type": "markdown",
   "metadata": {
    "colab_type": "text",
    "id": "sYJ8t_ezHP4W"
   },
   "source": [
    "### Hyperparameter Tuning Approaches:\n",
    "\n",
    "#### 1) Babysitting AKA \"Grad Student Descent\".\n",
    "\n",
    "If you fiddled with any hyperparameters yesterday, this is basically what you did. This approach is 100% manual and is pretty common among researchers where finding that 1 exact specification that jumps your model to a level of accuracy never seen before is the difference between publishing and not publishing a paper. Of course the professors don't do this themselves, that's grunt work. This is also known as the fiddle with hyperparameters until you run out of time method.\n",
    "\n",
    "#### 2) Grid Search\n",
    "\n",
    "Grid Search is the Grad Student galaxy brain realization of: why don't I just specify all the experiments I want to run and let the computer try every possible combination of them while I go and grab lunch. This has a specific downside in that if I specify 5 hyperparameters with 5 options each then I've just created 5^5 combinations of hyperparameters to check. Which means that I have to train 3125 different versions of my model Then if I use 5-fold Cross Validation on that then my model has to run 15,525 times. This is the brute-force method of hyperparameter tuning, but it can be very profitable if done wisely. \n",
    "\n",
    "When using Grid Search here's what I suggest: don't use it to test combinations of different hyperparameters, only use it to test different specifications of **a single** hyperparameter. It's rare that combinations between different hyperparameters lead to big performance gains. You'll get 90-95% of the way there if you just Grid Search one parameter and take the best result, then retain that best result while you test another, and then retain the best specification from that while you train another. This at least makes the situation much more manageable and leads to pretty good results. \n",
    "\n",
    "#### 3) Random Search\n",
    "\n",
    "Do Grid Search for a couple of hours and you'll say to yourself - \"There's got to be a better way.\" Enter Random Search. For Random search you specify a hyperparameter space and it picks specifications from that randomly, tries them out, gives you the best results and says - That's going to have to be good enough, go home and spend time with your family. \n",
    "\n",
    "Grid Search treats every parameter as if it was equally important, but this just isn't the case, some are known to move the needle a lot more than others (we'll talk about that in a minute). Random Search allows searching to be specified along the most important parameter and experiments less along the dimensions of less important hyperparameters. The downside of Random search is that it won't find the absolute best hyperparameters, but it is much less costly to perform than Grid Search. \n",
    "\n",
    "#### 4) Bayesian Methods\n",
    "\n",
    "One thing that can make more manual methods like babysitting and gridsearch effective is that as the experimenter sees results he can then make updates to his future searches taking into account the results of past specifications. If only we could hyperparameter tune our hyperparameter tuning. Well, we kind of can. Enter Bayesian Optimization. Neural Networks are like an optimization problem within an optimization problem, and Bayesian Optimization is a search strategy that tries to take into account the results of past searches in order to improve future ones. This is the most advanced method but can be a little bit tricky to implement, but there are some early steps with `hyperas` which is Bayesian optimization wrapper for `keras`. "
   ]
  },
  {
   "cell_type": "markdown",
   "metadata": {
    "colab_type": "text",
    "id": "HfQ7D043OMMn"
   },
   "source": [
    "## What Hyperparameters are there to test?\n",
    "\n",
    "- batch_size\n",
    "- training epochs\n",
    "- optimization algorithms\n",
    "- learning rate\n",
    "- momentum\n",
    "- activation functions\n",
    "- dropout regularization\n",
    "- number of neurons in the hidden layer\n",
    "\n",
    "There are more, but these are the most important."
   ]
  },
  {
   "cell_type": "markdown",
   "metadata": {},
   "source": [
    "## Follow Along"
   ]
  },
  {
   "cell_type": "markdown",
   "metadata": {
    "colab_type": "text",
    "id": "Mri5-kXzVKAa"
   },
   "source": [
    "## Batch Size\n",
    "\n",
    "Batch size determines how many observations the model is shown before it calculates loss/error and updates the model weights via gradient descent. You're looking for a sweet spot here where you're showing it enough observations that you have enough information to updates the weights, but not such a large batch size that you don't get a lot of weight update iterations performed in a given epoch. Feed-forward Neural Networks aren't as sensitive to bach_size as other networks, but it is still an important hyperparameter to tune. Smaller batch sizes will also take longer to train. "
   ]
  },
  {
   "cell_type": "code",
   "execution_count": 14,
   "metadata": {
    "colab": {
     "base_uri": "https://localhost:8080/",
     "height": 13561
    },
    "colab_type": "code",
    "id": "2smXfriNAGn7",
    "outputId": "ae996575-78e2-43fb-9dbe-5d44aaf0b430"
   },
   "outputs": [
    {
     "name": "stderr",
     "output_type": "stream",
     "text": [
      "/Users/michelle/opt/anaconda3/envs/U4-S2-NN/lib/python3.7/site-packages/sklearn/model_selection/_split.py:1978: FutureWarning: The default value of cv will change from 3 to 5 in version 0.22. Specify it explicitly to silence this warning.\n",
      "  warnings.warn(CV_WARNING, FutureWarning)\n"
     ]
    },
    {
     "name": "stdout",
     "output_type": "stream",
     "text": [
      "Best: 0.6432291666666666 using {'batch_size': 10, 'epochs': 20}\n",
      "Means: 0.6432291666666666, Stdev: 0.026748227323143407 with: {'batch_size': 10, 'epochs': 20}\n",
      "Means: 0.5390625, Stdev: 0.10040405025342188 with: {'batch_size': 20, 'epochs': 20}\n",
      "Means: 0.609375, Stdev: 0.034499065884093155 with: {'batch_size': 40, 'epochs': 20}\n",
      "Means: 0.5104166666666666, Stdev: 0.047983140033042396 with: {'batch_size': 60, 'epochs': 20}\n",
      "Means: 0.5794270833333334, Stdev: 0.02171006770902743 with: {'batch_size': 80, 'epochs': 20}\n",
      "Means: 0.5598958333333334, Stdev: 0.08108540352573054 with: {'batch_size': 100, 'epochs': 20}\n"
     ]
    }
   ],
   "source": [
    "import numpy\n",
    "import pandas as pd\n",
    "from sklearn.model_selection import GridSearchCV\n",
    "from tensorflow.keras.models import Sequential\n",
    "from tensorflow.keras.layers import Dense\n",
    "from tensorflow.keras.wrappers.scikit_learn import KerasClassifier\n",
    "\n",
    "# fix random seed for reproducibility\n",
    "seed = 7\n",
    "numpy.random.seed(seed)\n",
    "\n",
    "# load dataset\n",
    "url =\"https://raw.githubusercontent.com/jbrownlee/Datasets/master/pima-indians-diabetes.data.csv\"\n",
    "\n",
    "dataset = pd.read_csv(url, header=None).values\n",
    "\n",
    "# split into input (X) and output (Y) variables\n",
    "X = dataset[:,0:8]\n",
    "Y = dataset[:,8]\n",
    "\n",
    "# Function to create model, required for KerasClassifier\n",
    "def create_model():\n",
    "    # create model\n",
    "    model = Sequential()\n",
    "    model.add(Dense(12, input_dim=8, activation='relu'))\n",
    "    model.add(Dense(1, activation='sigmoid'))\n",
    "    # Compile model\n",
    "    model.compile(loss='binary_crossentropy', optimizer='adam', metrics=['accuracy'])\n",
    "    return model\n",
    "\n",
    "# create model\n",
    "model = KerasClassifier(build_fn=create_model, verbose=0)\n",
    "\n",
    "# define the grid search parameters\n",
    "# batch_size = [10, 20, 40, 60, 80, 100]\n",
    "# param_grid = dict(batch_size=batch_size, epochs=epochs)\n",
    "\n",
    "# define the grid search parameters\n",
    "param_grid = {'batch_size': [10, 20, 40, 60, 80, 100],\n",
    "              'epochs': [20]}\n",
    "\n",
    "# Create Grid Search\n",
    "grid = GridSearchCV(estimator=model, param_grid=param_grid, n_jobs=1)\n",
    "grid_result = grid.fit(X, Y)\n",
    "\n",
    "# Report Results\n",
    "print(f\"Best: {grid_result.best_score_} using {grid_result.best_params_}\")\n",
    "means = grid_result.cv_results_['mean_test_score']\n",
    "stds = grid_result.cv_results_['std_test_score']\n",
    "params = grid_result.cv_results_['params']\n",
    "for mean, stdev, param in zip(means, stds, params):\n",
    "    print(f\"Means: {mean}, Stdev: {stdev} with: {param}\") "
   ]
  },
  {
   "cell_type": "markdown",
   "metadata": {
    "colab_type": "text",
    "id": "pmABfjlvXbqi"
   },
   "source": [
    "## Epochs\n",
    "\n",
    "The number of training epochs has a large and direct affect on the accuracy, However, more epochs is almost always goign to better than less epochs. This means that if you tune this parameter at the beginning and try and maintain the same value all throughout your training, you're going to be waiting a long time for each iteration of GridSearch. I suggest picking a fixed moderat # of epochs all throughout your training and then Grid Searching this parameter at the very end. "
   ]
  },
  {
   "cell_type": "code",
   "execution_count": 5,
   "metadata": {
    "colab": {
     "base_uri": "https://localhost:8080/",
     "height": 26329
    },
    "colab_type": "code",
    "id": "bAmxP3N7TmFh",
    "outputId": "3ddb08c4-51ac-4eaa-ff39-143397024544"
   },
   "outputs": [
    {
     "name": "stdout",
     "output_type": "stream",
     "text": [
      "Best: 0.71875 using {'batch_size': 20, 'epochs': 200}\n",
      "Means: 0.59765625, Stdev: 0.04314594147338774 with: {'batch_size': 20, 'epochs': 20}\n",
      "Means: 0.6471354166666666, Stdev: 0.017566064535458385 with: {'batch_size': 20, 'epochs': 40}\n",
      "Means: 0.6796875, Stdev: 0.03314563036811941 with: {'batch_size': 20, 'epochs': 60}\n",
      "Means: 0.71875, Stdev: 0.005524271728019903 with: {'batch_size': 20, 'epochs': 200}\n"
     ]
    }
   ],
   "source": [
    "# define the grid search parameters\n",
    "param_grid = {'batch_size': [20],\n",
    "              'epochs': [20, 40, 60,200]}\n",
    "\n",
    "# Create Grid Search\n",
    "grid = GridSearchCV(estimator=model, param_grid=param_grid, n_jobs=1)\n",
    "grid_result = grid.fit(X, Y)\n",
    "\n",
    "# Report Results\n",
    "print(f\"Best: {grid_result.best_score_} using {grid_result.best_params_}\")\n",
    "means = grid_result.cv_results_['mean_test_score']\n",
    "stds = grid_result.cv_results_['std_test_score']\n",
    "params = grid_result.cv_results_['params']\n",
    "for mean, stdev, param in zip(means, stds, params):\n",
    "    print(f\"Means: {mean}, Stdev: {stdev} with: {param}\")"
   ]
  },
  {
   "cell_type": "markdown",
   "metadata": {
    "colab_type": "text",
    "id": "EKcuY6OiaLfz"
   },
   "source": [
    "## Optimizer\n",
    "\n",
    "Remember that there's a different optimizers [optimizers](https://keras.io/optimizers/). At some point, take some time to read up on them a little bit. \"adam\" usually gives the best results. The thing to know about choosing an optimizer is that different optimizers have different hyperparameters like learning rate, momentum, etc. So based on the optimizer you choose you might also have to tune the learning rate and momentum of those optimizers after that. "
   ]
  },
  {
   "cell_type": "markdown",
   "metadata": {
    "colab_type": "text",
    "id": "DG3wq5iOaLig"
   },
   "source": [
    "## Learning Rate\n",
    "\n",
    "Remember that the Learning Rate is a hyperparameter that is specific to your gradient-descent based optimizer selection. A learning rate that is too high will cause divergent behavior, but a Learning Rate that is too low will fail to converge, again, you're looking for the sweet spot. I would start out tuning learning rates by orders of magnitude: [.001, .01, .1, .2, .3, .5] etc. I wouldn't go above .5, but you can try it and see what the behavior is like. \n",
    "\n",
    "Once you have narrowed it down, make the window even smaller and try it again. If after running the above specification your model reports that .1 is the best optimizer, then you should probably try things like [.05, .08, .1, .12, .15] to try and narrow it down. \n",
    "\n",
    "It can also be good to tune the number of epochs in combination with the learning rate since the number of iterations that you allow the learning rate to reach the minimum can determine if you have let it run long enough to converge to the minimum. "
   ]
  },
  {
   "cell_type": "markdown",
   "metadata": {
    "colab_type": "text",
    "id": "gNTBUWd1aLlA"
   },
   "source": [
    "## Momentum\n",
    "\n",
    "Momentum is a hyperparameter that is more commonly associated with Stochastic Gradient Descent. SGD is a common optimizer because it's what people understand and know, but I doubt it will get you the best results, you can try hyperparameter tuning its attributes and see if you can beat the performance from adam. Momentum is a property that decides the willingness of an optimizer to overshoot the minimum. Imagine a ball rolling down one side of a bowl and then up the opposite side a little bit before settling back to the bottom. The purpose of momentum is to try and escale local minima."
   ]
  },
  {
   "cell_type": "markdown",
   "metadata": {
    "colab_type": "text",
    "id": "xnEG-bCJaLnZ"
   },
   "source": [
    "## Activation Functions\n",
    "\n",
    "We've talked about this a little bit, typically you'l want to use ReLU for hidden layers and either Sigmoid, or Softmax for output layers of binary and multi-class classification implementations respectively, but try other activation functions and see if you can get any better results with sigmoid or tanh or something. There are a lot of activation functions that we haven't really talked about. Maybe you'll get good results with them. Maybe you won't. :) <https://keras.io/activations/>"
   ]
  },
  {
   "cell_type": "markdown",
   "metadata": {
    "colab_type": "text",
    "id": "oul9sPq-dU-h"
   },
   "source": [
    "## Network Weight Initialization\n",
    "\n",
    "You saw how big of an effect the way that we initialize our network's weights can have on our results. There are **a lot** of what are called initialization modes. I don't understand all of them, but they can have a big affect on your model's initial accuracy. Your model will get further with less epochs if you initialize it with weights that are well suited to the problem you're trying to solve.\n",
    "\n",
    "`init_mode = ['uniform', 'lecun_uniform', 'normal', 'zero', 'glorot_normal', 'glorot_uniform', 'he_normal', 'he_uniform']`"
   ]
  },
  {
   "cell_type": "markdown",
   "metadata": {
    "colab_type": "text",
    "id": "bqtEuxeQaLqE"
   },
   "source": [
    "## Dropout Regularization and the Weight Constraint\n",
    "\n",
    "the Dropout Regularization value is a percentage of neurons that you want to be randomly deactivated during training. The weight constraint is a second regularization parameter that works in tandem with dropout regularization. You should tune these two values at the same time. \n",
    "\n",
    "Using dropout on visible vs hidden layers might have a different effect. Using dropout on hidden layers might not have any effect while using dropout on hidden layers might have a substantial effect. You don't necessarily need to turn use dropout unless you see that your model has overfitting and generalizability problems."
   ]
  },
  {
   "cell_type": "markdown",
   "metadata": {
    "colab_type": "text",
    "id": "P2c5Cv6oaLtO"
   },
   "source": [
    "## Neurons in Hidden Layer \n",
    "\n",
    "Remember that when we only had a single perceptron our model was only able to fit to linearly separable data, but as we have added layers and nodes to those layers our network has become a powerhouse of fitting nonlinearity in data. The larger the network and the more nodes generally the stronger the network's capacity to fit nonlinear patterns in data. The more nodes and layers the longer it will take to train a network, and higher the probability of overfitting. The larger your network gets the more you'll need dropout regularization or other regularization techniques to keep it in check. \n",
    "\n",
    "Typically depth (more layers) is more important than width (more nodes) for neural networks. This is part of why Deep Learning is so highly touted. Certain deep learning architectures have truly been huge breakthroughs for certain machine learning tasks. \n",
    "\n",
    "You might borrow ideas from other network architectures. For example if I was doing image recognition and I wasn't taking cues from state of the art architectures like resnet, alexnet, googlenet, etc. Then I'm probably going to have to do a lot more experimentation on my own before I find something that works.\n",
    "\n",
    "There are some heuristics, but I am highly skeptical of them. I think you're better off experimenting on your own and forming your own intuition for these kinds of problems. \n",
    "\n",
    "- https://machinelearningmastery.com/how-to-configure-the-number-of-layers-and-nodes-in-a-neural-network/"
   ]
  },
  {
   "cell_type": "markdown",
   "metadata": {},
   "source": [
    "## Challenge\n",
    "You will be expected to tune several hyperparameters in today's module project. "
   ]
  },
  {
   "cell_type": "markdown",
   "metadata": {},
   "source": [
    "# Experiment Tracking Framework (Learn)\n",
    "<a id=\"p2\"></a>"
   ]
  },
  {
   "cell_type": "markdown",
   "metadata": {},
   "source": [
    "## Overview\n",
    "\n",
    "You will notice quickly that managing the results of all the experiments you are running becomes challenging. Which set of parameters did the best? Are my results today different than my results yesterday? Although we use Ipython Notebooks to work, the format is not well suited to logging experimental results. Enter experiment tracking frameworks like [Comet.ml](https://comet.ml) and [Weights and Biases](https://wandb.ai/).\n",
    "\n",
    "Those tools will help you track your experiments, store the results, and the code associated with those experiments. Experimental results can also be readily visualized to see changes in performance across any metric you care about. Data is sent to the tool as each epoch is completed, so you can also see if your model is converging. Let's check out Weights & Biases today. "
   ]
  },
  {
   "cell_type": "markdown",
   "metadata": {},
   "source": [
    "## Follow Along\n",
    "\n",
    "Make sure you login into `wandb` in the terminal before running the next cell. "
   ]
  },
  {
   "cell_type": "code",
   "execution_count": 15,
   "metadata": {},
   "outputs": [
    {
     "data": {
      "text/html": [
       "\n",
       "                Logging results to <a href=\"https://wandb.com\" target=\"_blank\">Weights & Biases</a> <a href=\"https://docs.wandb.com/integrations/jupyter.html\" target=\"_blank\">(Documentation)</a>.<br/>\n",
       "                Project page: <a href=\"https://app.wandb.ai/ds8/ds9-boston\" target=\"_blank\">https://app.wandb.ai/ds8/ds9-boston</a><br/>\n",
       "                Run page: <a href=\"https://app.wandb.ai/ds8/ds9-boston/runs/9vtlsdxk\" target=\"_blank\">https://app.wandb.ai/ds8/ds9-boston/runs/9vtlsdxk</a><br/>\n",
       "            "
      ],
      "text/plain": [
       "<IPython.core.display.HTML object>"
      ]
     },
     "metadata": {},
     "output_type": "display_data"
    },
    {
     "name": "stderr",
     "output_type": "stream",
     "text": [
      "E0123 23:37:34.581276 140735661650816 jupyter.py:96] Failed to query for notebook name, you can set it manually with the WANDB_NOTEBOOK_NAME environment variable\n"
     ]
    },
    {
     "data": {
      "text/plain": [
       "W&B Run: https://app.wandb.ai/ds8/ds9-boston/runs/9vtlsdxk"
      ]
     },
     "execution_count": 15,
     "metadata": {},
     "output_type": "execute_result"
    }
   ],
   "source": [
    "import wandb\n",
    "from wandb.keras import WandbCallback\n",
    "wandb.init(project=\"ds9-boston\", entity=\"ds8\")"
   ]
  },
  {
   "cell_type": "code",
   "execution_count": 16,
   "metadata": {
    "colab": {
     "base_uri": "https://localhost:8080/",
     "height": 1750
    },
    "colab_type": "code",
    "id": "GMXVfmzXp1Oo",
    "outputId": "b05e251e-508f-46e6-865b-f869ae2a5dc4"
   },
   "outputs": [
    {
     "data": {
      "text/html": [
       "\n",
       "                Logging results to <a href=\"https://wandb.com\" target=\"_blank\">Weights & Biases</a> <a href=\"https://docs.wandb.com/integrations/jupyter.html\" target=\"_blank\">(Documentation)</a>.<br/>\n",
       "                Project page: <a href=\"https://app.wandb.ai/ds8/ds9-boston\" target=\"_blank\">https://app.wandb.ai/ds8/ds9-boston</a><br/>\n",
       "                Run page: <a href=\"https://app.wandb.ai/ds8/ds9-boston/runs/7mnuydym\" target=\"_blank\">https://app.wandb.ai/ds8/ds9-boston/runs/7mnuydym</a><br/>\n",
       "            "
      ],
      "text/plain": [
       "<IPython.core.display.HTML object>"
      ]
     },
     "metadata": {},
     "output_type": "display_data"
    },
    {
     "name": "stderr",
     "output_type": "stream",
     "text": [
      "E0123 23:37:43.509845 140735661650816 jupyter.py:96] Failed to query for notebook name, you can set it manually with the WANDB_NOTEBOOK_NAME environment variable\n"
     ]
    },
    {
     "name": "stdout",
     "output_type": "stream",
     "text": [
      "Train on 270 samples, validate on 134 samples\n",
      "Epoch 1/50\n",
      "270/270 [==============================] - 4s 13ms/sample - loss: 442.3313 - mean_squared_error: 442.3313 - mean_absolute_error: 19.1780 - val_loss: 370.0579 - val_mean_squared_error: 370.0579 - val_mean_absolute_error: 16.8439\n",
      "Epoch 2/50\n",
      "270/270 [==============================] - 0s 509us/sample - loss: 142.0308 - mean_squared_error: 142.0308 - mean_absolute_error: 9.3838 - val_loss: 95.2637 - val_mean_squared_error: 95.2637 - val_mean_absolute_error: 7.7504\n",
      "Epoch 3/50\n",
      "270/270 [==============================] - 0s 626us/sample - loss: 50.4627 - mean_squared_error: 50.4627 - mean_absolute_error: 5.2511 - val_loss: 52.9846 - val_mean_squared_error: 52.9846 - val_mean_absolute_error: 5.3012\n",
      "Epoch 4/50\n",
      "270/270 [==============================] - 0s 624us/sample - loss: 26.5553 - mean_squared_error: 26.5553 - mean_absolute_error: 3.8845 - val_loss: 34.8991 - val_mean_squared_error: 34.8991 - val_mean_absolute_error: 4.0700\n",
      "Epoch 5/50\n",
      "270/270 [==============================] - 0s 496us/sample - loss: 18.3280 - mean_squared_error: 18.3280 - mean_absolute_error: 3.2698 - val_loss: 27.2287 - val_mean_squared_error: 27.2287 - val_mean_absolute_error: 3.6106\n",
      "Epoch 6/50\n",
      "270/270 [==============================] - 0s 537us/sample - loss: 14.7201 - mean_squared_error: 14.7201 - mean_absolute_error: 2.8083 - val_loss: 24.9669 - val_mean_squared_error: 24.9669 - val_mean_absolute_error: 3.2670\n",
      "Epoch 7/50\n",
      "270/270 [==============================] - 0s 536us/sample - loss: 12.8948 - mean_squared_error: 12.8948 - mean_absolute_error: 2.6977 - val_loss: 22.0147 - val_mean_squared_error: 22.0147 - val_mean_absolute_error: 3.1331\n",
      "Epoch 8/50\n",
      "270/270 [==============================] - 0s 522us/sample - loss: 11.8383 - mean_squared_error: 11.8383 - mean_absolute_error: 2.5467 - val_loss: 19.9081 - val_mean_squared_error: 19.9081 - val_mean_absolute_error: 2.9346\n",
      "Epoch 9/50\n",
      "270/270 [==============================] - 0s 702us/sample - loss: 10.9646 - mean_squared_error: 10.9646 - mean_absolute_error: 2.4653 - val_loss: 19.1293 - val_mean_squared_error: 19.1293 - val_mean_absolute_error: 2.9340\n",
      "Epoch 10/50\n",
      "270/270 [==============================] - 0s 694us/sample - loss: 10.6446 - mean_squared_error: 10.6446 - mean_absolute_error: 2.4301 - val_loss: 18.3517 - val_mean_squared_error: 18.3517 - val_mean_absolute_error: 2.8269\n",
      "Epoch 11/50\n",
      "270/270 [==============================] - 0s 528us/sample - loss: 9.6491 - mean_squared_error: 9.6491 - mean_absolute_error: 2.3562 - val_loss: 18.6996 - val_mean_squared_error: 18.6996 - val_mean_absolute_error: 2.8942\n",
      "Epoch 12/50\n",
      "270/270 [==============================] - 0s 504us/sample - loss: 9.6783 - mean_squared_error: 9.6783 - mean_absolute_error: 2.3309 - val_loss: 18.4366 - val_mean_squared_error: 18.4366 - val_mean_absolute_error: 2.9097\n",
      "Epoch 13/50\n",
      "270/270 [==============================] - 0s 675us/sample - loss: 8.7080 - mean_squared_error: 8.7080 - mean_absolute_error: 2.2152 - val_loss: 17.0440 - val_mean_squared_error: 17.0440 - val_mean_absolute_error: 2.7743\n",
      "Epoch 14/50\n",
      "270/270 [==============================] - 0s 502us/sample - loss: 8.2275 - mean_squared_error: 8.2275 - mean_absolute_error: 2.1507 - val_loss: 17.4177 - val_mean_squared_error: 17.4177 - val_mean_absolute_error: 2.8598\n",
      "Epoch 15/50\n",
      "270/270 [==============================] - 0s 655us/sample - loss: 8.2438 - mean_squared_error: 8.2438 - mean_absolute_error: 2.1890 - val_loss: 16.9183 - val_mean_squared_error: 16.9183 - val_mean_absolute_error: 2.8122\n",
      "Epoch 16/50\n",
      "270/270 [==============================] - 0s 634us/sample - loss: 7.8150 - mean_squared_error: 7.8150 - mean_absolute_error: 2.1012 - val_loss: 16.4101 - val_mean_squared_error: 16.4101 - val_mean_absolute_error: 2.7526\n",
      "Epoch 17/50\n",
      "270/270 [==============================] - 0s 528us/sample - loss: 7.9823 - mean_squared_error: 7.9823 - mean_absolute_error: 2.1831 - val_loss: 17.4859 - val_mean_squared_error: 17.4859 - val_mean_absolute_error: 2.8594\n",
      "Epoch 18/50\n",
      "270/270 [==============================] - 0s 653us/sample - loss: 7.7163 - mean_squared_error: 7.7163 - mean_absolute_error: 2.1235 - val_loss: 16.3957 - val_mean_squared_error: 16.3957 - val_mean_absolute_error: 2.7561\n",
      "Epoch 19/50\n",
      "270/270 [==============================] - 0s 468us/sample - loss: 7.1277 - mean_squared_error: 7.1277 - mean_absolute_error: 2.0193 - val_loss: 16.5331 - val_mean_squared_error: 16.5331 - val_mean_absolute_error: 2.7730\n",
      "Epoch 20/50\n",
      "270/270 [==============================] - 0s 582us/sample - loss: 7.0940 - mean_squared_error: 7.0940 - mean_absolute_error: 2.0014 - val_loss: 16.2304 - val_mean_squared_error: 16.2304 - val_mean_absolute_error: 2.7323\n",
      "Epoch 21/50\n",
      "270/270 [==============================] - 0s 475us/sample - loss: 6.8565 - mean_squared_error: 6.8565 - mean_absolute_error: 2.0136 - val_loss: 16.7336 - val_mean_squared_error: 16.7336 - val_mean_absolute_error: 2.7726\n",
      "Epoch 22/50\n",
      "270/270 [==============================] - 0s 456us/sample - loss: 6.9490 - mean_squared_error: 6.9490 - mean_absolute_error: 1.9847 - val_loss: 16.2837 - val_mean_squared_error: 16.2837 - val_mean_absolute_error: 2.7533\n",
      "Epoch 23/50\n",
      "270/270 [==============================] - 0s 465us/sample - loss: 6.8288 - mean_squared_error: 6.8288 - mean_absolute_error: 1.9332 - val_loss: 16.2555 - val_mean_squared_error: 16.2555 - val_mean_absolute_error: 2.7599\n",
      "Epoch 24/50\n",
      "270/270 [==============================] - 0s 432us/sample - loss: 6.6294 - mean_squared_error: 6.6294 - mean_absolute_error: 1.9419 - val_loss: 16.3895 - val_mean_squared_error: 16.3895 - val_mean_absolute_error: 2.7551\n",
      "Epoch 25/50\n",
      "270/270 [==============================] - 0s 453us/sample - loss: 6.6964 - mean_squared_error: 6.6964 - mean_absolute_error: 1.9329 - val_loss: 16.2872 - val_mean_squared_error: 16.2872 - val_mean_absolute_error: 2.7255\n",
      "Epoch 26/50\n",
      "270/270 [==============================] - 0s 723us/sample - loss: 6.2625 - mean_squared_error: 6.2625 - mean_absolute_error: 1.8824 - val_loss: 15.6596 - val_mean_squared_error: 15.6596 - val_mean_absolute_error: 2.6701\n",
      "Epoch 27/50\n",
      "270/270 [==============================] - 0s 407us/sample - loss: 6.2266 - mean_squared_error: 6.2266 - mean_absolute_error: 1.8864 - val_loss: 15.8313 - val_mean_squared_error: 15.8313 - val_mean_absolute_error: 2.6947\n",
      "Epoch 28/50\n",
      "270/270 [==============================] - 0s 644us/sample - loss: 5.9503 - mean_squared_error: 5.9503 - mean_absolute_error: 1.8123 - val_loss: 15.5273 - val_mean_squared_error: 15.5273 - val_mean_absolute_error: 2.6555\n",
      "Epoch 29/50\n",
      "270/270 [==============================] - 0s 383us/sample - loss: 5.7975 - mean_squared_error: 5.7975 - mean_absolute_error: 1.7995 - val_loss: 15.6288 - val_mean_squared_error: 15.6288 - val_mean_absolute_error: 2.6631\n",
      "Epoch 30/50\n",
      "270/270 [==============================] - 0s 359us/sample - loss: 5.7789 - mean_squared_error: 5.7789 - mean_absolute_error: 1.8255 - val_loss: 15.9255 - val_mean_squared_error: 15.9255 - val_mean_absolute_error: 2.7115\n",
      "Epoch 31/50\n",
      "270/270 [==============================] - 0s 441us/sample - loss: 5.7956 - mean_squared_error: 5.7956 - mean_absolute_error: 1.7922 - val_loss: 15.4262 - val_mean_squared_error: 15.4262 - val_mean_absolute_error: 2.6503\n",
      "Epoch 32/50\n",
      "270/270 [==============================] - 0s 542us/sample - loss: 5.4688 - mean_squared_error: 5.4688 - mean_absolute_error: 1.7409 - val_loss: 15.6731 - val_mean_squared_error: 15.6731 - val_mean_absolute_error: 2.6632\n",
      "Epoch 33/50\n",
      "270/270 [==============================] - 0s 422us/sample - loss: 5.5322 - mean_squared_error: 5.5322 - mean_absolute_error: 1.7742 - val_loss: 15.9568 - val_mean_squared_error: 15.9568 - val_mean_absolute_error: 2.7066\n",
      "Epoch 34/50\n",
      "270/270 [==============================] - 0s 412us/sample - loss: 5.7066 - mean_squared_error: 5.7066 - mean_absolute_error: 1.8031 - val_loss: 15.6794 - val_mean_squared_error: 15.6794 - val_mean_absolute_error: 2.6850\n",
      "Epoch 35/50\n",
      "270/270 [==============================] - 0s 375us/sample - loss: 5.4660 - mean_squared_error: 5.4660 - mean_absolute_error: 1.7369 - val_loss: 15.5864 - val_mean_squared_error: 15.5864 - val_mean_absolute_error: 2.6515\n",
      "Epoch 36/50\n",
      "270/270 [==============================] - 0s 449us/sample - loss: 5.5292 - mean_squared_error: 5.5292 - mean_absolute_error: 1.7571 - val_loss: 15.8011 - val_mean_squared_error: 15.8011 - val_mean_absolute_error: 2.7240\n",
      "Epoch 37/50\n",
      "270/270 [==============================] - 0s 604us/sample - loss: 5.0115 - mean_squared_error: 5.0115 - mean_absolute_error: 1.6885 - val_loss: 15.3048 - val_mean_squared_error: 15.3048 - val_mean_absolute_error: 2.6493\n",
      "Epoch 38/50\n",
      "270/270 [==============================] - 0s 385us/sample - loss: 4.8240 - mean_squared_error: 4.8240 - mean_absolute_error: 1.6300 - val_loss: 15.7986 - val_mean_squared_error: 15.7986 - val_mean_absolute_error: 2.7014\n",
      "Epoch 39/50\n",
      "270/270 [==============================] - 0s 475us/sample - loss: 5.1474 - mean_squared_error: 5.1474 - mean_absolute_error: 1.6695 - val_loss: 14.6829 - val_mean_squared_error: 14.6829 - val_mean_absolute_error: 2.5548\n",
      "Epoch 40/50\n",
      "270/270 [==============================] - 0s 316us/sample - loss: 4.9997 - mean_squared_error: 4.9997 - mean_absolute_error: 1.7012 - val_loss: 15.1656 - val_mean_squared_error: 15.1656 - val_mean_absolute_error: 2.6217\n",
      "Epoch 41/50\n",
      "270/270 [==============================] - 0s 326us/sample - loss: 4.4261 - mean_squared_error: 4.4261 - mean_absolute_error: 1.5709 - val_loss: 14.6942 - val_mean_squared_error: 14.6942 - val_mean_absolute_error: 2.5512\n",
      "Epoch 42/50\n",
      "270/270 [==============================] - 0s 433us/sample - loss: 4.7560 - mean_squared_error: 4.7560 - mean_absolute_error: 1.6357 - val_loss: 14.9693 - val_mean_squared_error: 14.9693 - val_mean_absolute_error: 2.6036\n",
      "Epoch 43/50\n",
      "270/270 [==============================] - 0s 530us/sample - loss: 4.3363 - mean_squared_error: 4.3363 - mean_absolute_error: 1.5249 - val_loss: 14.4909 - val_mean_squared_error: 14.4909 - val_mean_absolute_error: 2.5622\n",
      "Epoch 44/50\n",
      "270/270 [==============================] - 0s 402us/sample - loss: 4.5176 - mean_squared_error: 4.5176 - mean_absolute_error: 1.6020 - val_loss: 14.8871 - val_mean_squared_error: 14.8871 - val_mean_absolute_error: 2.5714\n",
      "Epoch 45/50\n",
      "270/270 [==============================] - 0s 413us/sample - loss: 4.3918 - mean_squared_error: 4.3918 - mean_absolute_error: 1.5622 - val_loss: 14.6602 - val_mean_squared_error: 14.6602 - val_mean_absolute_error: 2.5708\n",
      "Epoch 46/50\n",
      "270/270 [==============================] - 0s 362us/sample - loss: 4.3309 - mean_squared_error: 4.3309 - mean_absolute_error: 1.5583 - val_loss: 14.6440 - val_mean_squared_error: 14.6440 - val_mean_absolute_error: 2.5705\n",
      "Epoch 47/50\n",
      "270/270 [==============================] - 0s 562us/sample - loss: 4.3105 - mean_squared_error: 4.3105 - mean_absolute_error: 1.5504 - val_loss: 14.3269 - val_mean_squared_error: 14.3269 - val_mean_absolute_error: 2.5093\n",
      "Epoch 48/50\n",
      "270/270 [==============================] - 0s 417us/sample - loss: 4.1332 - mean_squared_error: 4.1332 - mean_absolute_error: 1.4916 - val_loss: 14.5411 - val_mean_squared_error: 14.5411 - val_mean_absolute_error: 2.5394\n",
      "Epoch 49/50\n",
      "270/270 [==============================] - 0s 580us/sample - loss: 4.0002 - mean_squared_error: 4.0002 - mean_absolute_error: 1.4926 - val_loss: 14.2828 - val_mean_squared_error: 14.2828 - val_mean_absolute_error: 2.4896\n",
      "Epoch 50/50\n",
      "270/270 [==============================] - 0s 321us/sample - loss: 3.8649 - mean_squared_error: 3.8649 - mean_absolute_error: 1.4959 - val_loss: 14.3676 - val_mean_squared_error: 14.3676 - val_mean_absolute_error: 2.5277\n"
     ]
    },
    {
     "data": {
      "text/plain": [
       "<tensorflow.python.keras.callbacks.History at 0x1369eb0b8>"
      ]
     },
     "execution_count": 16,
     "metadata": {},
     "output_type": "execute_result"
    }
   ],
   "source": [
    "wandb.init(project=\"ds9-boston\", entity=\"ds8\") #Initializes and Experiment\n",
    "\n",
    "# Important Hyperparameters\n",
    "X =  x_train\n",
    "y =  y_train\n",
    "\n",
    "inputs = X.shape[1]\n",
    "wandb.config.epochs = 50\n",
    "wandb.config.batch_size = 10\n",
    "\n",
    "# Create Model\n",
    "model = Sequential()\n",
    "model.add(Dense(64, activation='relu', input_shape=(inputs,)))\n",
    "model.add(Dense(64, activation='relu'))\n",
    "model.add(Dense(64, activation='relu'))\n",
    "model.add(Dense(1))\n",
    "# Compile Model\n",
    "model.compile(optimizer='adam', loss='mse', metrics=['mse', 'mae'])\n",
    "\n",
    "# Fit Model\n",
    "model.fit(X, y, \n",
    "          validation_split=0.33, \n",
    "          epochs=wandb.config.epochs, \n",
    "          batch_size=wandb.config.batch_size, \n",
    "          callbacks=[WandbCallback()]\n",
    "         )"
   ]
  },
  {
   "cell_type": "markdown",
   "metadata": {},
   "source": [
    "## Challenge\n",
    "\n",
    "You will be expected to use Weights & Biases to try to tune your model during your module assignment today. "
   ]
  },
  {
   "cell_type": "markdown",
   "metadata": {},
   "source": [
    "# Hyperparameters with RandomSearchCV (Learn)"
   ]
  },
  {
   "cell_type": "markdown",
   "metadata": {},
   "source": [
    "## Overview\n",
    "\n",
    "Basically `GridSearchCV` takes forever. You'll want to adopt a slightly more sophiscated strategy."
   ]
  },
  {
   "cell_type": "markdown",
   "metadata": {},
   "source": [
    "## Follow Along"
   ]
  },
  {
   "cell_type": "code",
   "execution_count": 17,
   "metadata": {},
   "outputs": [],
   "source": [
    "sweep_config = {\n",
    "    'method': 'random',\n",
    "    'parameters': {\n",
    "        'learning_rate': {'distribution': 'normal'},\n",
    "        'epochs': {'distribution': 'uniform',\n",
    "                    'min': 100,\n",
    "                    'max': 1000},\n",
    "        'batch_size': {'distribution': 'uniform',\n",
    "            'min': 10,\n",
    "            'max': 400}\n",
    "    }\n",
    "}"
   ]
  },
  {
   "cell_type": "code",
   "execution_count": 18,
   "metadata": {},
   "outputs": [
    {
     "name": "stdout",
     "output_type": "stream",
     "text": [
      "Create sweep with ID: j4m3nq82\n",
      "Sweep URL: https://app.wandb.ai/ds8/ds9-boston/sweeps/j4m3nq82\n"
     ]
    }
   ],
   "source": [
    "sweep_id = wandb.sweep(sweep_config)"
   ]
  },
  {
   "cell_type": "code",
   "execution_count": 19,
   "metadata": {},
   "outputs": [],
   "source": [
    "import wandb\n",
    "from wandb.keras import WandbCallback\n",
    "#Initializes and Experiment\n",
    "\n",
    "from tensorflow.keras.optimizers import Adam\n",
    "\n",
    "# Important Hyperparameters\n",
    "X =  x_train\n",
    "y =  y_train\n",
    "\n",
    "inputs = X.shape[1]\n",
    "\n",
    "def train():\n",
    "    \n",
    "    wandb.init(project=\"boston\", entity=\"lambda-ds7\") \n",
    "    \n",
    "    config = wandb.config\n",
    "\n",
    "    # Create Model\n",
    "    model = Sequential()\n",
    "    model.add(Dense(64, activation='relu', input_shape=(inputs,)))\n",
    "    model.add(Dense(64, activation='relu'))\n",
    "    model.add(Dense(64, activation='relu'))\n",
    "    model.add(Dense(1))\n",
    "\n",
    "    # Optimizer \n",
    "    adam = Adam(learning_rate=config.learning_rate)\n",
    "\n",
    "    # Compile Model\n",
    "    model.compile(optimizer=adam, loss='mse', metrics=['mse', 'mae'])\n",
    "\n",
    "    # Fit Model\n",
    "    model.fit(X, y, \n",
    "              validation_split=0.33, \n",
    "              epochs=config.epochs, \n",
    "              batch_size=config.batch_size, \n",
    "              callbacks=[WandbCallback()]\n",
    "             )"
   ]
  },
  {
   "cell_type": "code",
   "execution_count": 20,
   "metadata": {},
   "outputs": [
    {
     "name": "stderr",
     "output_type": "stream",
     "text": [
      "I0123 23:38:27.894647 140735661650816 wandb_agent.py:180] Running runs: []\n",
      "I0123 23:38:28.131877 140735661650816 wandb_agent.py:242] Agent received command: run\n",
      "I0123 23:38:28.132717 140735661650816 wandb_agent.py:272] Agent starting run with config:\n",
      "\tbatch_size: 282.56226134367716\n",
      "\tepochs: 313.98353049678815\n",
      "\tlearning_rate: 0.7807001536168101\n",
      "E0123 23:38:28.146048 140735661650816 jupyter.py:96] Failed to query for notebook name, you can set it manually with the WANDB_NOTEBOOK_NAME environment variable\n"
     ]
    },
    {
     "name": "stdout",
     "output_type": "stream",
     "text": [
      "wandb: Agent Starting Run: y0m2smao with config:\n",
      "\tbatch_size: 282.56226134367716\n",
      "\tepochs: 313.98353049678815\n",
      "\tlearning_rate: 0.7807001536168101\n",
      "wandb: Agent Started Run: y0m2smao\n"
     ]
    },
    {
     "data": {
      "text/html": [
       "\n",
       "                Logging results to <a href=\"https://wandb.com\" target=\"_blank\">Weights & Biases</a> <a href=\"https://docs.wandb.com/integrations/jupyter.html\" target=\"_blank\">(Documentation)</a>.<br/>\n",
       "                Project page: <a href=\"https://app.wandb.ai/lambda-ds7/boston\" target=\"_blank\">https://app.wandb.ai/lambda-ds7/boston</a><br/>\n",
       "                Run page: <a href=\"https://app.wandb.ai/lambda-ds7/boston/runs/xhaz3wdh\" target=\"_blank\">https://app.wandb.ai/lambda-ds7/boston/runs/xhaz3wdh</a><br/>\n",
       "            "
      ],
      "text/plain": [
       "<IPython.core.display.HTML object>"
      ]
     },
     "metadata": {},
     "output_type": "display_data"
    },
    {
     "name": "stderr",
     "output_type": "stream",
     "text": [
      "E0123 23:38:29.296783 140735661650816 jupyter.py:96] Failed to query for notebook name, you can set it manually with the WANDB_NOTEBOOK_NAME environment variable\n",
      "Process Process-1:\n",
      "Traceback (most recent call last):\n",
      "  File \"/Users/michelle/opt/anaconda3/envs/U4-S2-NN/lib/python3.7/multiprocessing/process.py\", line 297, in _bootstrap\n",
      "    self.run()\n",
      "  File \"/Users/michelle/opt/anaconda3/envs/U4-S2-NN/lib/python3.7/multiprocessing/process.py\", line 99, in run\n",
      "    self._target(*self._args, **self._kwargs)\n",
      "  File \"/Users/michelle/opt/anaconda3/envs/U4-S2-NN/lib/python3.7/site-packages/wandb/wandb_agent.py\", line 63, in _start\n",
      "    function()\n",
      "  File \"<ipython-input-19-23dfe667f67c>\", line 27, in train\n",
      "    adam = Adam(learning_rate=config.learning_rate)\n",
      "  File \"/Users/michelle/opt/anaconda3/envs/U4-S2-NN/lib/python3.7/site-packages/wandb/wandb_config.py\", line 213, in __getattr__\n",
      "    return self.__getitem__(key)\n",
      "  File \"/Users/michelle/opt/anaconda3/envs/U4-S2-NN/lib/python3.7/site-packages/wandb/wandb_config.py\", line 203, in __getitem__\n",
      "    return self._items[key]\n",
      "KeyError: 'learning_rate'\n",
      "I0123 23:38:33.977556 140735661650816 wandb_agent.py:180] Running runs: ['y0m2smao']\n",
      "I0123 23:38:39.154221 140735661650816 wandb_agent.py:180] Running runs: ['y0m2smao']\n",
      "I0123 23:38:44.368612 140735661650816 wandb_agent.py:180] Running runs: ['y0m2smao']\n",
      "I0123 23:38:49.557040 140735661650816 wandb_agent.py:180] Running runs: ['y0m2smao']\n",
      "I0123 23:38:54.741230 140735661650816 wandb_agent.py:180] Running runs: ['y0m2smao']\n",
      "I0123 23:39:01.693942 140735661650816 wandb_agent.py:180] Running runs: ['y0m2smao']\n",
      "I0123 23:39:06.873296 140735661650816 wandb_agent.py:180] Running runs: ['y0m2smao']\n",
      "I0123 23:39:12.090560 140735661650816 wandb_agent.py:180] Running runs: ['y0m2smao']\n",
      "I0123 23:39:17.302856 140735661650816 wandb_agent.py:180] Running runs: ['y0m2smao']\n",
      "I0123 23:39:22.475269 140735661650816 wandb_agent.py:180] Running runs: ['y0m2smao']\n",
      "I0123 23:39:27.658824 140735661650816 wandb_agent.py:180] Running runs: ['y0m2smao']\n",
      "I0123 23:39:32.858609 140735661650816 wandb_agent.py:180] Running runs: ['y0m2smao']\n",
      "I0123 23:39:38.051290 140735661650816 wandb_agent.py:180] Running runs: ['y0m2smao']\n",
      "I0123 23:39:43.244704 140735661650816 wandb_agent.py:180] Running runs: ['y0m2smao']\n",
      "I0123 23:39:48.440893 140735661650816 wandb_agent.py:180] Running runs: ['y0m2smao']\n",
      "I0123 23:39:53.618690 140735661650816 wandb_agent.py:180] Running runs: ['y0m2smao']\n",
      "I0123 23:39:58.804765 140735661650816 wandb_agent.py:180] Running runs: ['y0m2smao']\n",
      "I0123 23:40:03.977581 140735661650816 wandb_agent.py:180] Running runs: ['y0m2smao']\n",
      "I0123 23:40:09.180525 140735661650816 wandb_agent.py:180] Running runs: ['y0m2smao']\n",
      "I0123 23:40:14.362648 140735661650816 wandb_agent.py:180] Running runs: ['y0m2smao']\n",
      "I0123 23:40:19.540324 140735661650816 wandb_agent.py:180] Running runs: ['y0m2smao']\n",
      "I0123 23:40:24.719877 140735661650816 wandb_agent.py:180] Running runs: ['y0m2smao']\n",
      "I0123 23:40:29.892463 140735661650816 wandb_agent.py:180] Running runs: ['y0m2smao']\n",
      "I0123 23:40:35.069925 140735661650816 wandb_agent.py:180] Running runs: ['y0m2smao']\n",
      "I0123 23:40:40.252581 140735661650816 wandb_agent.py:180] Running runs: ['y0m2smao']\n",
      "I0123 23:40:45.476109 140735661650816 wandb_agent.py:180] Running runs: ['y0m2smao']\n",
      "I0123 23:40:50.656557 140735661650816 wandb_agent.py:180] Running runs: ['y0m2smao']\n",
      "I0123 23:40:55.863817 140735661650816 wandb_agent.py:180] Running runs: ['y0m2smao']\n",
      "I0123 23:41:01.046293 140735661650816 wandb_agent.py:180] Running runs: ['y0m2smao']\n",
      "I0123 23:41:06.241940 140735661650816 wandb_agent.py:180] Running runs: ['y0m2smao']\n",
      "I0123 23:41:11.438401 140735661650816 wandb_agent.py:180] Running runs: ['y0m2smao']\n",
      "I0123 23:41:16.616224 140735661650816 wandb_agent.py:180] Running runs: ['y0m2smao']\n",
      "I0123 23:41:21.812041 140735661650816 wandb_agent.py:180] Running runs: ['y0m2smao']\n",
      "I0123 23:41:26.981524 140735661650816 wandb_agent.py:180] Running runs: ['y0m2smao']\n",
      "I0123 23:41:32.206423 140735661650816 wandb_agent.py:180] Running runs: ['y0m2smao']\n",
      "I0123 23:41:37.400866 140735661650816 wandb_agent.py:180] Running runs: ['y0m2smao']\n",
      "I0123 23:41:42.581743 140735661650816 wandb_agent.py:180] Running runs: ['y0m2smao']\n",
      "I0123 23:41:47.762617 140735661650816 wandb_agent.py:180] Running runs: ['y0m2smao']\n",
      "I0123 23:41:52.944869 140735661650816 wandb_agent.py:180] Running runs: ['y0m2smao']\n",
      "I0123 23:41:58.141736 140735661650816 wandb_agent.py:180] Running runs: ['y0m2smao']\n",
      "I0123 23:42:03.351356 140735661650816 wandb_agent.py:180] Running runs: ['y0m2smao']\n",
      "I0123 23:42:08.523158 140735661650816 wandb_agent.py:180] Running runs: ['y0m2smao']\n",
      "I0123 23:42:13.708081 140735661650816 wandb_agent.py:180] Running runs: ['y0m2smao']\n",
      "I0123 23:42:18.897393 140735661650816 wandb_agent.py:180] Running runs: ['y0m2smao']\n",
      "I0123 23:42:24.070587 140735661650816 wandb_agent.py:180] Running runs: ['y0m2smao']\n",
      "I0123 23:42:29.297818 140735661650816 wandb_agent.py:180] Running runs: ['y0m2smao']\n",
      "I0123 23:42:34.493177 140735661650816 wandb_agent.py:180] Running runs: ['y0m2smao']\n",
      "I0123 23:42:39.689081 140735661650816 wandb_agent.py:180] Running runs: ['y0m2smao']\n",
      "I0123 23:42:44.870704 140735661650816 wandb_agent.py:180] Running runs: ['y0m2smao']\n",
      "I0123 23:42:50.053552 140735661650816 wandb_agent.py:180] Running runs: ['y0m2smao']\n",
      "I0123 23:42:55.306248 140735661650816 wandb_agent.py:180] Running runs: ['y0m2smao']\n",
      "I0123 23:43:00.484003 140735661650816 wandb_agent.py:180] Running runs: ['y0m2smao']\n",
      "I0123 23:43:05.678083 140735661650816 wandb_agent.py:180] Running runs: ['y0m2smao']\n",
      "I0123 23:43:10.848767 140735661650816 wandb_agent.py:180] Running runs: ['y0m2smao']\n",
      "I0123 23:43:16.032320 140735661650816 wandb_agent.py:180] Running runs: ['y0m2smao']\n",
      "I0123 23:43:21.221472 140735661650816 wandb_agent.py:180] Running runs: ['y0m2smao']\n",
      "I0123 23:43:26.400401 140735661650816 wandb_agent.py:180] Running runs: ['y0m2smao']\n",
      "I0123 23:43:31.578597 140735661650816 wandb_agent.py:180] Running runs: ['y0m2smao']\n",
      "I0123 23:43:36.786580 140735661650816 wandb_agent.py:180] Running runs: ['y0m2smao']\n",
      "I0123 23:43:41.968159 140735661650816 wandb_agent.py:180] Running runs: ['y0m2smao']\n",
      "I0123 23:43:47.248888 140735661650816 wandb_agent.py:180] Running runs: ['y0m2smao']\n",
      "I0123 23:43:52.424566 140735661650816 wandb_agent.py:180] Running runs: ['y0m2smao']\n",
      "I0123 23:43:57.642468 140735661650816 wandb_agent.py:180] Running runs: ['y0m2smao']\n",
      "I0123 23:44:02.837121 140735661650816 wandb_agent.py:180] Running runs: ['y0m2smao']\n",
      "I0123 23:44:08.040059 140735661650816 wandb_agent.py:180] Running runs: ['y0m2smao']\n",
      "I0123 23:44:13.268169 140735661650816 wandb_agent.py:180] Running runs: ['y0m2smao']\n",
      "I0123 23:44:18.452321 140735661650816 wandb_agent.py:180] Running runs: ['y0m2smao']\n",
      "I0123 23:44:23.685596 140735661650816 wandb_agent.py:180] Running runs: ['y0m2smao']\n",
      "I0123 23:44:28.861787 140735661650816 wandb_agent.py:180] Running runs: ['y0m2smao']\n",
      "I0123 23:44:34.106778 140735661650816 wandb_agent.py:180] Running runs: ['y0m2smao']\n",
      "I0123 23:44:39.282744 140735661650816 wandb_agent.py:180] Running runs: ['y0m2smao']\n",
      "I0123 23:44:44.465767 140735661650816 wandb_agent.py:180] Running runs: ['y0m2smao']\n",
      "I0123 23:44:49.650839 140735661650816 wandb_agent.py:180] Running runs: ['y0m2smao']\n",
      "I0123 23:44:54.870053 140735661650816 wandb_agent.py:180] Running runs: ['y0m2smao']\n",
      "I0123 23:45:00.064197 140735661650816 wandb_agent.py:180] Running runs: ['y0m2smao']\n",
      "I0123 23:45:05.248932 140735661650816 wandb_agent.py:180] Running runs: ['y0m2smao']\n",
      "I0123 23:45:10.426967 140735661650816 wandb_agent.py:180] Running runs: ['y0m2smao']\n",
      "I0123 23:45:15.629605 140735661650816 wandb_agent.py:180] Running runs: ['y0m2smao']\n",
      "I0123 23:45:20.849853 140735661650816 wandb_agent.py:180] Running runs: ['y0m2smao']\n",
      "I0123 23:45:26.043308 140735661650816 wandb_agent.py:180] Running runs: ['y0m2smao']\n",
      "I0123 23:45:31.229078 140735661650816 wandb_agent.py:180] Running runs: ['y0m2smao']\n",
      "I0123 23:45:36.420359 140735661650816 wandb_agent.py:180] Running runs: ['y0m2smao']\n",
      "I0123 23:45:41.616416 140735661650816 wandb_agent.py:180] Running runs: ['y0m2smao']\n",
      "I0123 23:45:46.812461 140735661650816 wandb_agent.py:180] Running runs: ['y0m2smao']\n",
      "I0123 23:45:52.024186 140735661650816 wandb_agent.py:180] Running runs: ['y0m2smao']\n",
      "I0123 23:45:57.210328 140735661650816 wandb_agent.py:180] Running runs: ['y0m2smao']\n",
      "I0123 23:46:02.409936 140735661650816 wandb_agent.py:180] Running runs: ['y0m2smao']\n",
      "I0123 23:46:07.636698 140735661650816 wandb_agent.py:180] Running runs: ['y0m2smao']\n",
      "I0123 23:46:12.826522 140735661650816 wandb_agent.py:180] Running runs: ['y0m2smao']\n",
      "I0123 23:46:18.008995 140735661650816 wandb_agent.py:180] Running runs: ['y0m2smao']\n",
      "I0123 23:46:23.247097 140735661650816 wandb_agent.py:180] Running runs: ['y0m2smao']\n",
      "I0123 23:46:28.706341 140735661650816 wandb_agent.py:180] Running runs: ['y0m2smao']\n",
      "I0123 23:46:33.908833 140735661650816 wandb_agent.py:180] Running runs: ['y0m2smao']\n",
      "I0123 23:46:39.112725 140735661650816 wandb_agent.py:180] Running runs: ['y0m2smao']\n",
      "I0123 23:46:44.320540 140735661650816 wandb_agent.py:180] Running runs: ['y0m2smao']\n",
      "I0123 23:46:49.493934 140735661650816 wandb_agent.py:180] Running runs: ['y0m2smao']\n",
      "I0123 23:46:54.658681 140735661650816 wandb_agent.py:180] Running runs: ['y0m2smao']\n",
      "I0123 23:46:59.874207 140735661650816 wandb_agent.py:180] Running runs: ['y0m2smao']\n",
      "I0123 23:47:05.086403 140735661650816 wandb_agent.py:180] Running runs: ['y0m2smao']\n",
      "I0123 23:47:10.278115 140735661650816 wandb_agent.py:180] Running runs: ['y0m2smao']\n",
      "I0123 23:47:15.472470 140735661650816 wandb_agent.py:180] Running runs: ['y0m2smao']\n",
      "I0123 23:47:20.658234 140735661650816 wandb_agent.py:180] Running runs: ['y0m2smao']\n",
      "I0123 23:47:25.896622 140735661650816 wandb_agent.py:180] Running runs: ['y0m2smao']\n",
      "I0123 23:47:31.085294 140735661650816 wandb_agent.py:180] Running runs: ['y0m2smao']\n",
      "I0123 23:47:36.297247 140735661650816 wandb_agent.py:180] Running runs: ['y0m2smao']\n",
      "I0123 23:47:41.479045 140735661650816 wandb_agent.py:180] Running runs: ['y0m2smao']\n",
      "I0123 23:47:46.669724 140735661650816 wandb_agent.py:180] Running runs: ['y0m2smao']\n",
      "I0123 23:47:51.880702 140735661650816 wandb_agent.py:180] Running runs: ['y0m2smao']\n",
      "I0123 23:47:57.068076 140735661650816 wandb_agent.py:180] Running runs: ['y0m2smao']\n",
      "I0123 23:48:02.272351 140735661650816 wandb_agent.py:180] Running runs: ['y0m2smao']\n",
      "I0123 23:48:07.452445 140735661650816 wandb_agent.py:180] Running runs: ['y0m2smao']\n",
      "I0123 23:48:12.677096 140735661650816 wandb_agent.py:180] Running runs: ['y0m2smao']\n",
      "I0123 23:48:17.859827 140735661650816 wandb_agent.py:180] Running runs: ['y0m2smao']\n",
      "I0123 23:48:23.063019 140735661650816 wandb_agent.py:180] Running runs: ['y0m2smao']\n",
      "I0123 23:48:28.233782 140735661650816 wandb_agent.py:180] Running runs: ['y0m2smao']\n",
      "I0123 23:48:33.435389 140735661650816 wandb_agent.py:180] Running runs: ['y0m2smao']\n",
      "I0123 23:48:38.931561 140735661650816 wandb_agent.py:180] Running runs: ['y0m2smao']\n",
      "I0123 23:48:44.106956 140735661650816 wandb_agent.py:180] Running runs: ['y0m2smao']\n",
      "I0123 23:48:49.297533 140735661650816 wandb_agent.py:180] Running runs: ['y0m2smao']\n",
      "I0123 23:48:54.532150 140735661650816 wandb_agent.py:180] Running runs: ['y0m2smao']\n",
      "I0123 23:48:59.764837 140735661650816 wandb_agent.py:180] Running runs: ['y0m2smao']\n",
      "I0123 23:49:05.585643 140735661650816 wandb_agent.py:180] Running runs: ['y0m2smao']\n",
      "I0123 23:49:10.757282 140735661650816 wandb_agent.py:180] Running runs: ['y0m2smao']\n",
      "I0123 23:49:15.932554 140735661650816 wandb_agent.py:180] Running runs: ['y0m2smao']\n",
      "I0123 23:49:21.108824 140735661650816 wandb_agent.py:180] Running runs: ['y0m2smao']\n",
      "I0123 23:49:26.283257 140735661650816 wandb_agent.py:180] Running runs: ['y0m2smao']\n",
      "I0123 23:49:31.454418 140735661650816 wandb_agent.py:180] Running runs: ['y0m2smao']\n",
      "I0123 23:49:36.641180 140735661650816 wandb_agent.py:180] Running runs: ['y0m2smao']\n",
      "I0123 23:49:41.825334 140735661650816 wandb_agent.py:180] Running runs: ['y0m2smao']\n",
      "I0123 23:49:47.001179 140735661650816 wandb_agent.py:180] Running runs: ['y0m2smao']\n",
      "I0123 23:49:52.193706 140735661650816 wandb_agent.py:180] Running runs: ['y0m2smao']\n",
      "I0123 23:49:57.398051 140735661650816 wandb_agent.py:180] Running runs: ['y0m2smao']\n",
      "I0123 23:50:02.587290 140735661650816 wandb_agent.py:180] Running runs: ['y0m2smao']\n",
      "I0123 23:50:07.839294 140735661650816 wandb_agent.py:180] Running runs: ['y0m2smao']\n",
      "I0123 23:50:13.061429 140735661650816 wandb_agent.py:180] Running runs: ['y0m2smao']\n",
      "I0123 23:50:18.253410 140735661650816 wandb_agent.py:180] Running runs: ['y0m2smao']\n",
      "I0123 23:50:23.431547 140735661650816 wandb_agent.py:180] Running runs: ['y0m2smao']\n",
      "I0123 23:50:28.613363 140735661650816 wandb_agent.py:180] Running runs: ['y0m2smao']\n",
      "I0123 23:50:33.795659 140735661650816 wandb_agent.py:180] Running runs: ['y0m2smao']\n",
      "I0123 23:50:38.991314 140735661650816 wandb_agent.py:180] Running runs: ['y0m2smao']\n",
      "I0123 23:50:44.187464 140735661650816 wandb_agent.py:180] Running runs: ['y0m2smao']\n",
      "I0123 23:50:49.372566 140735661650816 wandb_agent.py:180] Running runs: ['y0m2smao']\n",
      "I0123 23:50:54.561897 140735661650816 wandb_agent.py:180] Running runs: ['y0m2smao']\n",
      "I0123 23:50:59.786995 140735661650816 wandb_agent.py:180] Running runs: ['y0m2smao']\n",
      "I0123 23:51:04.971194 140735661650816 wandb_agent.py:180] Running runs: ['y0m2smao']\n",
      "I0123 23:51:10.198519 140735661650816 wandb_agent.py:180] Running runs: ['y0m2smao']\n",
      "I0123 23:51:15.387072 140735661650816 wandb_agent.py:180] Running runs: ['y0m2smao']\n",
      "I0123 23:51:20.586667 140735661650816 wandb_agent.py:180] Running runs: ['y0m2smao']\n",
      "I0123 23:51:25.773046 140735661650816 wandb_agent.py:180] Running runs: ['y0m2smao']\n",
      "I0123 23:51:30.967822 140735661650816 wandb_agent.py:180] Running runs: ['y0m2smao']\n",
      "I0123 23:51:36.158080 140735661650816 wandb_agent.py:180] Running runs: ['y0m2smao']\n",
      "I0123 23:51:41.340986 140735661650816 wandb_agent.py:180] Running runs: ['y0m2smao']\n",
      "I0123 23:51:46.533632 140735661650816 wandb_agent.py:180] Running runs: ['y0m2smao']\n",
      "I0123 23:51:51.730027 140735661650816 wandb_agent.py:180] Running runs: ['y0m2smao']\n",
      "I0123 23:51:56.907170 140735661650816 wandb_agent.py:180] Running runs: ['y0m2smao']\n",
      "I0123 23:52:02.088864 140735661650816 wandb_agent.py:180] Running runs: ['y0m2smao']\n",
      "I0123 23:52:07.270126 140735661650816 wandb_agent.py:180] Running runs: ['y0m2smao']\n",
      "I0123 23:52:12.474928 140735661650816 wandb_agent.py:180] Running runs: ['y0m2smao']\n",
      "I0123 23:52:17.659112 140735661650816 wandb_agent.py:180] Running runs: ['y0m2smao']\n",
      "I0123 23:52:22.849192 140735661650816 wandb_agent.py:180] Running runs: ['y0m2smao']\n",
      "I0123 23:52:28.050725 140735661650816 wandb_agent.py:180] Running runs: ['y0m2smao']\n",
      "I0123 23:52:33.222155 140735661650816 wandb_agent.py:180] Running runs: ['y0m2smao']\n",
      "I0123 23:52:38.414987 140735661650816 wandb_agent.py:180] Running runs: ['y0m2smao']\n",
      "I0123 23:52:43.593974 140735661650816 wandb_agent.py:180] Running runs: ['y0m2smao']\n",
      "I0123 23:52:48.785763 140735661650816 wandb_agent.py:180] Running runs: ['y0m2smao']\n",
      "I0123 23:52:53.977965 140735661650816 wandb_agent.py:180] Running runs: ['y0m2smao']\n",
      "I0123 23:52:59.155574 140735661650816 wandb_agent.py:180] Running runs: ['y0m2smao']\n",
      "I0123 23:53:04.348327 140735661650816 wandb_agent.py:180] Running runs: ['y0m2smao']\n",
      "I0123 23:53:09.519236 140735661650816 wandb_agent.py:180] Running runs: ['y0m2smao']\n",
      "I0123 23:53:14.694095 140735661650816 wandb_agent.py:180] Running runs: ['y0m2smao']\n",
      "I0123 23:53:19.900323 140735661650816 wandb_agent.py:180] Running runs: ['y0m2smao']\n",
      "I0123 23:53:25.078794 140735661650816 wandb_agent.py:180] Running runs: ['y0m2smao']\n",
      "I0123 23:53:30.265680 140735661650816 wandb_agent.py:180] Running runs: ['y0m2smao']\n",
      "I0123 23:53:35.475013 140735661650816 wandb_agent.py:180] Running runs: ['y0m2smao']\n",
      "I0123 23:53:40.662024 140735661650816 wandb_agent.py:180] Running runs: ['y0m2smao']\n",
      "I0123 23:53:45.873600 140735661650816 wandb_agent.py:180] Running runs: ['y0m2smao']\n",
      "I0123 23:53:51.077482 140735661650816 wandb_agent.py:180] Running runs: ['y0m2smao']\n",
      "I0123 23:53:56.287230 140735661650816 wandb_agent.py:180] Running runs: ['y0m2smao']\n",
      "I0123 23:54:01.474236 140735661650816 wandb_agent.py:180] Running runs: ['y0m2smao']\n",
      "I0123 23:54:06.655909 140735661650816 wandb_agent.py:180] Running runs: ['y0m2smao']\n",
      "I0123 23:54:12.236060 140735661650816 wandb_agent.py:180] Running runs: ['y0m2smao']\n",
      "I0123 23:54:17.414526 140735661650816 wandb_agent.py:180] Running runs: ['y0m2smao']\n",
      "I0123 23:54:22.596995 140735661650816 wandb_agent.py:180] Running runs: ['y0m2smao']\n",
      "I0123 23:54:27.800076 140735661650816 wandb_agent.py:180] Running runs: ['y0m2smao']\n",
      "I0123 23:54:32.992858 140735661650816 wandb_agent.py:180] Running runs: ['y0m2smao']\n",
      "I0123 23:54:38.171936 140735661650816 wandb_agent.py:180] Running runs: ['y0m2smao']\n",
      "I0123 23:54:43.375187 140735661650816 wandb_agent.py:180] Running runs: ['y0m2smao']\n",
      "I0123 23:54:48.556208 140735661650816 wandb_agent.py:180] Running runs: ['y0m2smao']\n",
      "I0123 23:54:53.746090 140735661650816 wandb_agent.py:180] Running runs: ['y0m2smao']\n",
      "I0123 23:54:58.924094 140735661650816 wandb_agent.py:180] Running runs: ['y0m2smao']\n",
      "I0123 23:55:04.106945 140735661650816 wandb_agent.py:180] Running runs: ['y0m2smao']\n",
      "I0123 23:55:09.305596 140735661650816 wandb_agent.py:180] Running runs: ['y0m2smao']\n",
      "I0123 23:55:14.515747 140735661650816 wandb_agent.py:180] Running runs: ['y0m2smao']\n",
      "I0123 23:55:19.693732 140735661650816 wandb_agent.py:180] Running runs: ['y0m2smao']\n",
      "I0123 23:55:24.877218 140735661650816 wandb_agent.py:180] Running runs: ['y0m2smao']\n",
      "I0123 23:55:30.040722 140735661650816 wandb_agent.py:180] Running runs: ['y0m2smao']\n",
      "I0123 23:55:35.234163 140735661650816 wandb_agent.py:180] Running runs: ['y0m2smao']\n",
      "I0123 23:55:40.425390 140735661650816 wandb_agent.py:180] Running runs: ['y0m2smao']\n",
      "I0123 23:55:45.626734 140735661650816 wandb_agent.py:180] Running runs: ['y0m2smao']\n",
      "I0123 23:55:50.814016 140735661650816 wandb_agent.py:180] Running runs: ['y0m2smao']\n",
      "I0123 23:55:56.019360 140735661650816 wandb_agent.py:180] Running runs: ['y0m2smao']\n",
      "I0123 23:56:01.198923 140735661650816 wandb_agent.py:180] Running runs: ['y0m2smao']\n",
      "I0123 23:56:06.361535 140735661650816 wandb_agent.py:180] Running runs: ['y0m2smao']\n",
      "I0123 23:56:11.555174 140735661650816 wandb_agent.py:180] Running runs: ['y0m2smao']\n",
      "I0123 23:56:16.742280 140735661650816 wandb_agent.py:180] Running runs: ['y0m2smao']\n",
      "I0123 23:56:21.910006 140735661650816 wandb_agent.py:180] Running runs: ['y0m2smao']\n",
      "I0123 23:56:27.100579 140735661650816 wandb_agent.py:180] Running runs: ['y0m2smao']\n",
      "I0123 23:56:32.282909 140735661650816 wandb_agent.py:180] Running runs: ['y0m2smao']\n",
      "I0123 23:56:37.458451 140735661650816 wandb_agent.py:180] Running runs: ['y0m2smao']\n",
      "I0123 23:56:43.706491 140735661650816 wandb_agent.py:180] Running runs: ['y0m2smao']\n",
      "I0123 23:56:48.883504 140735661650816 wandb_agent.py:180] Running runs: ['y0m2smao']\n",
      "I0123 23:56:54.051313 140735661650816 wandb_agent.py:180] Running runs: ['y0m2smao']\n",
      "I0123 23:56:59.255164 140735661650816 wandb_agent.py:180] Running runs: ['y0m2smao']\n",
      "I0123 23:57:04.433856 140735661650816 wandb_agent.py:180] Running runs: ['y0m2smao']\n",
      "I0123 23:57:09.614541 140735661650816 wandb_agent.py:180] Running runs: ['y0m2smao']\n",
      "I0123 23:57:14.802137 140735661650816 wandb_agent.py:180] Running runs: ['y0m2smao']\n",
      "I0123 23:57:19.996222 140735661650816 wandb_agent.py:180] Running runs: ['y0m2smao']\n",
      "I0123 23:57:25.186264 140735661650816 wandb_agent.py:180] Running runs: ['y0m2smao']\n",
      "I0123 23:57:30.377249 140735661650816 wandb_agent.py:180] Running runs: ['y0m2smao']\n",
      "I0123 23:57:35.546607 140735661650816 wandb_agent.py:180] Running runs: ['y0m2smao']\n",
      "I0123 23:57:40.758256 140735661650816 wandb_agent.py:180] Running runs: ['y0m2smao']\n",
      "I0123 23:57:45.957078 140735661650816 wandb_agent.py:180] Running runs: ['y0m2smao']\n",
      "I0123 23:57:51.143362 140735661650816 wandb_agent.py:180] Running runs: ['y0m2smao']\n",
      "I0123 23:57:56.323461 140735661650816 wandb_agent.py:180] Running runs: ['y0m2smao']\n",
      "wandb: Ctrl-c pressed. Waiting for runs to end. Press ctrl-c again to terminate them.\n"
     ]
    }
   ],
   "source": [
    "wandb.agent(sweep_id, function=train)"
   ]
  },
  {
   "cell_type": "markdown",
   "metadata": {},
   "source": [
    "## Challenge\n",
    "\n",
    "Try to apply RandomSearchCV to your module project today. "
   ]
  },
  {
   "cell_type": "markdown",
   "metadata": {},
   "source": [
    "# Review\n",
    "* <a href=\"#p1\">Part 1</a>: Describe the major hyperparemeters to tune\n",
    "    - Activation Functions\n",
    "    - Optimizer\n",
    "    - Number of Layers\n",
    "    - Number of Neurons\n",
    "    - Batch Size\n",
    "    - Dropout Regulaization\n",
    "    - Learning Rate\n",
    "    - Number of Epochs\n",
    "    - and many more\n",
    "* <a href=\"#p2\">Part 2</a>: Implement an experiment tracking framework\n",
    "    - Weights & Biases\n",
    "    - Comet.ml\n",
    "    - By Hand / GridSearch\n",
    "* <a href=\"#p3\">Part 3</a>: Search the hyperparameter space using RandomSearch\n",
    "    - Sklearn still useful (haha)\n",
    "    - Integration with Wieghts & Biases\n",
    "* <a href=\"#p4\">Part 4</a>: Discuss emerging hyperparameter tuning strategies\n",
    "    - Bayesian Optimization\n",
    "    - Hyperopt\n",
    "    - Genetic Evolution"
   ]
  },
  {
   "cell_type": "markdown",
   "metadata": {},
   "source": [
    "# Sources"
   ]
  },
  {
   "cell_type": "markdown",
   "metadata": {},
   "source": [
    "## Additional Reading\n",
    "- https://machinelearningmastery.com/grid-search-hyperparameters-deep-learning-models-python-keras/\n",
    "- https://blog.floydhub.com/guide-to-hyperparameters-search-for-deep-learning-models/\n",
    "- https://machinelearningmastery.com/dropout-regularization-deep-learning-models-keras/\n",
    "- https://machinelearningmastery.com/introduction-to-weight-constraints-to-reduce-generalization-error-in-deep-learning/\n",
    "- https://machinelearningmastery.com/how-to-configure-the-number-of-layers-and-nodes-in-a-neural-network/"
   ]
  }
 ],
 "metadata": {
  "kernelspec": {
   "display_name": "U4-S2-NN(v1)",
   "language": "python",
   "name": "u4-s2-nn"
  },
  "language_info": {
   "codemirror_mode": {
    "name": "ipython",
    "version": 3
   },
   "file_extension": ".py",
   "mimetype": "text/x-python",
   "name": "python",
   "nbconvert_exporter": "python",
   "pygments_lexer": "ipython3",
   "version": "3.7.0"
  }
 },
 "nbformat": 4,
 "nbformat_minor": 4
}
